{
 "cells": [
  {
   "cell_type": "markdown",
   "id": "automated-alcohol",
   "metadata": {
    "papermill": {
     "duration": 0.061078,
     "end_time": "2021-08-10T13:11:29.601128",
     "exception": false,
     "start_time": "2021-08-10T13:11:29.540050",
     "status": "completed"
    },
    "tags": []
   },
   "source": [
    "## Проект 4. Компьютер говорит нет!"
   ]
  },
  {
   "cell_type": "markdown",
   "id": "hawaiian-richards",
   "metadata": {
    "papermill": {
     "duration": 0.058748,
     "end_time": "2021-08-10T13:11:29.719836",
     "exception": false,
     "start_time": "2021-08-10T13:11:29.661088",
     "status": "completed"
    },
    "tags": []
   },
   "source": [
    "#### **Целью** данного проекта является построение модели МО для вторичных клиентов банка, которая бы предсказывала вероятность дефолта клиента.\n",
    "\n",
    "#### Для достижения данной цели были выделены следующие **задачи**:\n",
    "1. Предварительно исследовать данные, провести их объединение и анализ\n",
    "2. Посмотреть данные на наличие пустых значений и заполнить пустые места\n",
    "3. Определить категории признаков для дальнейшей работы и анализа\n",
    "4. Построить графики численных переменных и посмотреть как они распределены\n",
    "5. Сделать матрицу корреляции и провести анализ значимости непрерывных и категориальных признаков\n",
    "6. Подготовить данные для машинного обучения: преобразовать категориальные признаки в dummy-переменные и провести стандартизацию численных признаков\n",
    "7. Построить модель логистической регрессии и провести регуляризацию\n",
    "8. Посмотреть другие (более подходящие) модели..."
   ]
  },
  {
   "cell_type": "markdown",
   "id": "directed-spine",
   "metadata": {
    "papermill": {
     "duration": 0.060888,
     "end_time": "2021-08-10T13:11:29.839722",
     "exception": false,
     "start_time": "2021-08-10T13:11:29.778834",
     "status": "completed"
    },
    "tags": []
   },
   "source": [
    "### **Описания полей**\n",
    "\n",
    "* client_id - идентификатор клиента\n",
    "* education - уровень образования \n",
    "* sex - пол заемщика \n",
    "* age - возраст заемщика\n",
    "* car - флаг наличия автомобиля\n",
    "* car_type - флаг автомобиля иномарки\n",
    "* decline_app_cnt - количество отказанных прошлых заявок\n",
    "* good_work - флаг наличия “хорошей” работы\n",
    "* bki_request_cnt - количество запросов в БКИ\n",
    "* home_address - категоризатор домашнего адреса\n",
    "* work_address - категоризатор рабочего адреса\n",
    "* income - доход заемщика\n",
    "* foreign_passport - наличие загранпаспорта\n",
    "* sna - связь заемщика с клиентами банка\n",
    "* first_time - давность наличия информации о заемщике\n",
    "* score_bki - скоринговый балл по данным из БКИ\n",
    "* region_rating - рейтинг региона\n",
    "* app_date - дата подачи заявки\n",
    "* default - флаг дефолта по кредиту"
   ]
  },
  {
   "cell_type": "code",
   "execution_count": 1,
   "id": "assumed-array",
   "metadata": {
    "execution": {
     "iopub.execute_input": "2021-08-10T13:11:29.966402Z",
     "iopub.status.busy": "2021-08-10T13:11:29.964896Z",
     "iopub.status.idle": "2021-08-10T13:11:33.193095Z",
     "shell.execute_reply": "2021-08-10T13:11:33.193664Z",
     "shell.execute_reply.started": "2021-08-10T13:06:25.667843Z"
    },
    "papermill": {
     "duration": 3.294679,
     "end_time": "2021-08-10T13:11:33.194062",
     "exception": false,
     "start_time": "2021-08-10T13:11:29.899383",
     "status": "completed"
    },
    "tags": []
   },
   "outputs": [
    {
     "name": "stdout",
     "output_type": "stream",
     "text": [
      "/kaggle/input/sf-dst-scoring/sample_submission.csv\n",
      "/kaggle/input/sf-dst-scoring/train.csv\n",
      "/kaggle/input/sf-dst-scoring/test.csv\n"
     ]
    }
   ],
   "source": [
    "# необходимые библиотеки\n",
    "from pandas import Series\n",
    "import pandas as pd\n",
    "import numpy as np\n",
    "\n",
    "import pandas_profiling\n",
    "\n",
    "import matplotlib.pyplot as plt\n",
    "import seaborn as sns\n",
    "%matplotlib inline\n",
    "\n",
    "from datetime import date\n",
    "from datetime import datetime, timedelta\n",
    "\n",
    "from sklearn.feature_selection import f_classif, mutual_info_classif\n",
    "from sklearn.preprocessing import LabelEncoder, OneHotEncoder, StandardScaler, PolynomialFeatures\n",
    "from sklearn.model_selection import GridSearchCV, RandomizedSearchCV\n",
    "from sklearn.model_selection import train_test_split\n",
    "from sklearn.linear_model import LogisticRegression\n",
    "from sklearn.ensemble import GradientBoostingClassifier, RandomForestClassifier\n",
    "from catboost import CatBoostClassifier\n",
    "\n",
    "from sklearn.metrics import accuracy_score, recall_score, f1_score, mean_absolute_error, mean_squared_error, precision_score\n",
    "from sklearn.metrics import confusion_matrix\n",
    "from sklearn.metrics import auc, roc_auc_score, roc_curve\n",
    "\n",
    "import warnings\n",
    "warnings.filterwarnings(\"ignore\")\n",
    "\n",
    "import os\n",
    "for dirname, _, filenames in os.walk('/kaggle/input'):\n",
    "    for filename in filenames:\n",
    "        print(os.path.join(dirname, filename))"
   ]
  },
  {
   "cell_type": "code",
   "execution_count": 2,
   "id": "silver-clerk",
   "metadata": {
    "execution": {
     "iopub.execute_input": "2021-08-10T13:11:33.322211Z",
     "iopub.status.busy": "2021-08-10T13:11:33.321220Z",
     "iopub.status.idle": "2021-08-10T13:11:33.325175Z",
     "shell.execute_reply": "2021-08-10T13:11:33.324508Z",
     "shell.execute_reply.started": "2021-08-10T13:06:28.410598Z"
    },
    "papermill": {
     "duration": 0.069715,
     "end_time": "2021-08-10T13:11:33.325338",
     "exception": false,
     "start_time": "2021-08-10T13:11:33.255623",
     "status": "completed"
    },
    "tags": []
   },
   "outputs": [],
   "source": [
    "# Зафиксируем RANDOM_SEED, чтобы эксперименты были воспроизводимы\n",
    "RANDOM_SEED = 40"
   ]
  },
  {
   "cell_type": "code",
   "execution_count": 3,
   "id": "hybrid-heater",
   "metadata": {
    "execution": {
     "iopub.execute_input": "2021-08-10T13:11:33.453027Z",
     "iopub.status.busy": "2021-08-10T13:11:33.452230Z",
     "iopub.status.idle": "2021-08-10T13:11:36.745409Z",
     "shell.execute_reply": "2021-08-10T13:11:36.744456Z",
     "shell.execute_reply.started": "2021-08-10T13:06:28.421238Z"
    },
    "papermill": {
     "duration": 3.358258,
     "end_time": "2021-08-10T13:11:36.745615",
     "exception": false,
     "start_time": "2021-08-10T13:11:33.387357",
     "status": "completed"
    },
    "tags": []
   },
   "outputs": [],
   "source": [
    "# Зафиксируем версию пакетов, чтобы эксперименты были воспроизводимы:\n",
    "!pip freeze > requiremnts.txt"
   ]
  },
  {
   "cell_type": "markdown",
   "id": "large-investigator",
   "metadata": {
    "papermill": {
     "duration": 0.058618,
     "end_time": "2021-08-10T13:11:36.863151",
     "exception": false,
     "start_time": "2021-08-10T13:11:36.804533",
     "status": "completed"
    },
    "tags": []
   },
   "source": [
    "### 1. Первоначальный анализ исходных данных. Объединение датасетов"
   ]
  },
  {
   "cell_type": "code",
   "execution_count": 4,
   "id": "inner-heather",
   "metadata": {
    "execution": {
     "iopub.execute_input": "2021-08-10T13:11:36.988888Z",
     "iopub.status.busy": "2021-08-10T13:11:36.987985Z",
     "iopub.status.idle": "2021-08-10T13:11:37.423633Z",
     "shell.execute_reply": "2021-08-10T13:11:37.422943Z",
     "shell.execute_reply.started": "2021-08-10T13:06:31.136008Z"
    },
    "papermill": {
     "duration": 0.502307,
     "end_time": "2021-08-10T13:11:37.423822",
     "exception": false,
     "start_time": "2021-08-10T13:11:36.921515",
     "status": "completed"
    },
    "tags": []
   },
   "outputs": [],
   "source": [
    "DATA_DIR = '/kaggle/input/sf-dst-scoring/'\n",
    "train = pd.read_csv(DATA_DIR + 'train.csv')\n",
    "test = pd.read_csv(DATA_DIR + 'test.csv')\n",
    "sample_submission = pd.read_csv(DATA_DIR + 'sample_submission.csv')"
   ]
  },
  {
   "cell_type": "code",
   "execution_count": 5,
   "id": "arabic-classification",
   "metadata": {
    "execution": {
     "iopub.execute_input": "2021-08-10T13:11:37.548023Z",
     "iopub.status.busy": "2021-08-10T13:11:37.547174Z",
     "iopub.status.idle": "2021-08-10T13:11:37.633894Z",
     "shell.execute_reply": "2021-08-10T13:11:37.632707Z",
     "shell.execute_reply.started": "2021-08-10T13:06:31.510797Z"
    },
    "papermill": {
     "duration": 0.14983,
     "end_time": "2021-08-10T13:11:37.634145",
     "exception": false,
     "start_time": "2021-08-10T13:11:37.484315",
     "status": "completed"
    },
    "tags": []
   },
   "outputs": [
    {
     "name": "stdout",
     "output_type": "stream",
     "text": [
      "<class 'pandas.core.frame.DataFrame'>\n",
      "RangeIndex: 73799 entries, 0 to 73798\n",
      "Data columns (total 19 columns):\n",
      " #   Column            Non-Null Count  Dtype  \n",
      "---  ------            --------------  -----  \n",
      " 0   client_id         73799 non-null  int64  \n",
      " 1   app_date          73799 non-null  object \n",
      " 2   education         73492 non-null  object \n",
      " 3   sex               73799 non-null  object \n",
      " 4   age               73799 non-null  int64  \n",
      " 5   car               73799 non-null  object \n",
      " 6   car_type          73799 non-null  object \n",
      " 7   decline_app_cnt   73799 non-null  int64  \n",
      " 8   good_work         73799 non-null  int64  \n",
      " 9   score_bki         73799 non-null  float64\n",
      " 10  bki_request_cnt   73799 non-null  int64  \n",
      " 11  region_rating     73799 non-null  int64  \n",
      " 12  home_address      73799 non-null  int64  \n",
      " 13  work_address      73799 non-null  int64  \n",
      " 14  income            73799 non-null  int64  \n",
      " 15  sna               73799 non-null  int64  \n",
      " 16  first_time        73799 non-null  int64  \n",
      " 17  foreign_passport  73799 non-null  object \n",
      " 18  default           73799 non-null  int64  \n",
      "dtypes: float64(1), int64(12), object(6)\n",
      "memory usage: 10.7+ MB\n"
     ]
    }
   ],
   "source": [
    "train.info()"
   ]
  },
  {
   "cell_type": "code",
   "execution_count": 6,
   "id": "increased-sacrifice",
   "metadata": {
    "execution": {
     "iopub.execute_input": "2021-08-10T13:11:37.758649Z",
     "iopub.status.busy": "2021-08-10T13:11:37.757527Z",
     "iopub.status.idle": "2021-08-10T13:11:37.801285Z",
     "shell.execute_reply": "2021-08-10T13:11:37.802064Z",
     "shell.execute_reply.started": "2021-08-10T13:06:31.597884Z"
    },
    "papermill": {
     "duration": 0.108323,
     "end_time": "2021-08-10T13:11:37.802317",
     "exception": false,
     "start_time": "2021-08-10T13:11:37.693994",
     "status": "completed"
    },
    "tags": []
   },
   "outputs": [
    {
     "name": "stdout",
     "output_type": "stream",
     "text": [
      "<class 'pandas.core.frame.DataFrame'>\n",
      "RangeIndex: 36349 entries, 0 to 36348\n",
      "Data columns (total 18 columns):\n",
      " #   Column            Non-Null Count  Dtype  \n",
      "---  ------            --------------  -----  \n",
      " 0   client_id         36349 non-null  int64  \n",
      " 1   app_date          36349 non-null  object \n",
      " 2   education         36178 non-null  object \n",
      " 3   sex               36349 non-null  object \n",
      " 4   age               36349 non-null  int64  \n",
      " 5   car               36349 non-null  object \n",
      " 6   car_type          36349 non-null  object \n",
      " 7   decline_app_cnt   36349 non-null  int64  \n",
      " 8   good_work         36349 non-null  int64  \n",
      " 9   score_bki         36349 non-null  float64\n",
      " 10  bki_request_cnt   36349 non-null  int64  \n",
      " 11  region_rating     36349 non-null  int64  \n",
      " 12  home_address      36349 non-null  int64  \n",
      " 13  work_address      36349 non-null  int64  \n",
      " 14  income            36349 non-null  int64  \n",
      " 15  sna               36349 non-null  int64  \n",
      " 16  first_time        36349 non-null  int64  \n",
      " 17  foreign_passport  36349 non-null  object \n",
      "dtypes: float64(1), int64(11), object(6)\n",
      "memory usage: 5.0+ MB\n"
     ]
    }
   ],
   "source": [
    "test.info()"
   ]
  },
  {
   "cell_type": "code",
   "execution_count": 7,
   "id": "instructional-century",
   "metadata": {
    "execution": {
     "iopub.execute_input": "2021-08-10T13:11:37.941557Z",
     "iopub.status.busy": "2021-08-10T13:11:37.940597Z",
     "iopub.status.idle": "2021-08-10T13:11:37.945087Z",
     "shell.execute_reply": "2021-08-10T13:11:37.945795Z",
     "shell.execute_reply.started": "2021-08-10T13:06:31.638318Z"
    },
    "papermill": {
     "duration": 0.081598,
     "end_time": "2021-08-10T13:11:37.946049",
     "exception": false,
     "start_time": "2021-08-10T13:11:37.864451",
     "status": "completed"
    },
    "tags": []
   },
   "outputs": [
    {
     "name": "stdout",
     "output_type": "stream",
     "text": [
      "<class 'pandas.core.frame.DataFrame'>\n",
      "RangeIndex: 24354 entries, 0 to 24353\n",
      "Data columns (total 2 columns):\n",
      " #   Column     Non-Null Count  Dtype  \n",
      "---  ------     --------------  -----  \n",
      " 0   client_id  24354 non-null  int64  \n",
      " 1   default    24354 non-null  float64\n",
      "dtypes: float64(1), int64(1)\n",
      "memory usage: 380.7 KB\n"
     ]
    }
   ],
   "source": [
    "sample_submission.info()"
   ]
  },
  {
   "cell_type": "code",
   "execution_count": 8,
   "id": "planned-scheme",
   "metadata": {
    "execution": {
     "iopub.execute_input": "2021-08-10T13:11:38.081003Z",
     "iopub.status.busy": "2021-08-10T13:11:38.079070Z",
     "iopub.status.idle": "2021-08-10T13:11:38.129605Z",
     "shell.execute_reply": "2021-08-10T13:11:38.130382Z",
     "shell.execute_reply.started": "2021-08-10T13:06:31.656223Z"
    },
    "papermill": {
     "duration": 0.123841,
     "end_time": "2021-08-10T13:11:38.130623",
     "exception": false,
     "start_time": "2021-08-10T13:11:38.006782",
     "status": "completed"
    },
    "tags": []
   },
   "outputs": [],
   "source": [
    "# Для корректной обработки данных объединим train и test в один датасет\n",
    "train['sample'] = 1 # помечаем train\n",
    "test['sample'] = 0 # помечаем test\n",
    "test['default'] = 0 # т.к. значения дефолта отсутствуют для тестовой выборки, то пока\n",
    "# заполним нулями\n",
    "\n",
    "data = test.append(train, sort=False).reset_index(drop=True)"
   ]
  },
  {
   "cell_type": "code",
   "execution_count": 9,
   "id": "improved-expansion",
   "metadata": {
    "execution": {
     "iopub.execute_input": "2021-08-10T13:11:38.352879Z",
     "iopub.status.busy": "2021-08-10T13:11:38.351111Z",
     "iopub.status.idle": "2021-08-10T13:11:38.384645Z",
     "shell.execute_reply": "2021-08-10T13:11:38.385482Z",
     "shell.execute_reply.started": "2021-08-10T13:06:31.713673Z"
    },
    "papermill": {
     "duration": 0.194047,
     "end_time": "2021-08-10T13:11:38.385747",
     "exception": false,
     "start_time": "2021-08-10T13:11:38.191700",
     "status": "completed"
    },
    "tags": []
   },
   "outputs": [
    {
     "name": "stdout",
     "output_type": "stream",
     "text": [
      "<class 'pandas.core.frame.DataFrame'>\n",
      "RangeIndex: 110148 entries, 0 to 110147\n",
      "Data columns (total 20 columns):\n",
      " #   Column            Non-Null Count   Dtype  \n",
      "---  ------            --------------   -----  \n",
      " 0   client_id         110148 non-null  int64  \n",
      " 1   app_date          110148 non-null  object \n",
      " 2   education         109670 non-null  object \n",
      " 3   sex               110148 non-null  object \n",
      " 4   age               110148 non-null  int64  \n",
      " 5   car               110148 non-null  object \n",
      " 6   car_type          110148 non-null  object \n",
      " 7   decline_app_cnt   110148 non-null  int64  \n",
      " 8   good_work         110148 non-null  int64  \n",
      " 9   score_bki         110148 non-null  float64\n",
      " 10  bki_request_cnt   110148 non-null  int64  \n",
      " 11  region_rating     110148 non-null  int64  \n",
      " 12  home_address      110148 non-null  int64  \n",
      " 13  work_address      110148 non-null  int64  \n",
      " 14  income            110148 non-null  int64  \n",
      " 15  sna               110148 non-null  int64  \n",
      " 16  first_time        110148 non-null  int64  \n",
      " 17  foreign_passport  110148 non-null  object \n",
      " 18  sample            110148 non-null  int64  \n",
      " 19  default           110148 non-null  int64  \n",
      "dtypes: float64(1), int64(13), object(6)\n",
      "memory usage: 16.8+ MB\n"
     ]
    }
   ],
   "source": [
    "data.info()"
   ]
  },
  {
   "cell_type": "code",
   "execution_count": 10,
   "id": "christian-crossing",
   "metadata": {
    "execution": {
     "iopub.execute_input": "2021-08-10T13:11:38.521223Z",
     "iopub.status.busy": "2021-08-10T13:11:38.520370Z",
     "iopub.status.idle": "2021-08-10T13:11:38.581472Z",
     "shell.execute_reply": "2021-08-10T13:11:38.582038Z",
     "shell.execute_reply.started": "2021-08-10T13:06:31.797491Z"
    },
    "papermill": {
     "duration": 0.133068,
     "end_time": "2021-08-10T13:11:38.582247",
     "exception": false,
     "start_time": "2021-08-10T13:11:38.449179",
     "status": "completed"
    },
    "tags": []
   },
   "outputs": [
    {
     "data": {
      "text/html": [
       "<div>\n",
       "<style scoped>\n",
       "    .dataframe tbody tr th:only-of-type {\n",
       "        vertical-align: middle;\n",
       "    }\n",
       "\n",
       "    .dataframe tbody tr th {\n",
       "        vertical-align: top;\n",
       "    }\n",
       "\n",
       "    .dataframe thead th {\n",
       "        text-align: right;\n",
       "    }\n",
       "</style>\n",
       "<table border=\"1\" class=\"dataframe\">\n",
       "  <thead>\n",
       "    <tr style=\"text-align: right;\">\n",
       "      <th></th>\n",
       "      <th>client_id</th>\n",
       "      <th>app_date</th>\n",
       "      <th>education</th>\n",
       "      <th>sex</th>\n",
       "      <th>age</th>\n",
       "      <th>car</th>\n",
       "      <th>car_type</th>\n",
       "      <th>decline_app_cnt</th>\n",
       "      <th>good_work</th>\n",
       "      <th>score_bki</th>\n",
       "      <th>bki_request_cnt</th>\n",
       "      <th>region_rating</th>\n",
       "      <th>home_address</th>\n",
       "      <th>work_address</th>\n",
       "      <th>income</th>\n",
       "      <th>sna</th>\n",
       "      <th>first_time</th>\n",
       "      <th>foreign_passport</th>\n",
       "      <th>sample</th>\n",
       "      <th>default</th>\n",
       "    </tr>\n",
       "  </thead>\n",
       "  <tbody>\n",
       "    <tr>\n",
       "      <th>17323</th>\n",
       "      <td>62674</td>\n",
       "      <td>12MAR2014</td>\n",
       "      <td>SCH</td>\n",
       "      <td>M</td>\n",
       "      <td>53</td>\n",
       "      <td>Y</td>\n",
       "      <td>N</td>\n",
       "      <td>0</td>\n",
       "      <td>0</td>\n",
       "      <td>-3.091895</td>\n",
       "      <td>2</td>\n",
       "      <td>60</td>\n",
       "      <td>1</td>\n",
       "      <td>2</td>\n",
       "      <td>55000</td>\n",
       "      <td>1</td>\n",
       "      <td>4</td>\n",
       "      <td>N</td>\n",
       "      <td>0</td>\n",
       "      <td>0</td>\n",
       "    </tr>\n",
       "    <tr>\n",
       "      <th>8721</th>\n",
       "      <td>70899</td>\n",
       "      <td>19MAR2014</td>\n",
       "      <td>SCH</td>\n",
       "      <td>M</td>\n",
       "      <td>36</td>\n",
       "      <td>N</td>\n",
       "      <td>N</td>\n",
       "      <td>0</td>\n",
       "      <td>1</td>\n",
       "      <td>-1.186034</td>\n",
       "      <td>1</td>\n",
       "      <td>70</td>\n",
       "      <td>1</td>\n",
       "      <td>1</td>\n",
       "      <td>40000</td>\n",
       "      <td>1</td>\n",
       "      <td>4</td>\n",
       "      <td>N</td>\n",
       "      <td>0</td>\n",
       "      <td>0</td>\n",
       "    </tr>\n",
       "    <tr>\n",
       "      <th>25493</th>\n",
       "      <td>9166</td>\n",
       "      <td>16JAN2014</td>\n",
       "      <td>GRD</td>\n",
       "      <td>M</td>\n",
       "      <td>37</td>\n",
       "      <td>Y</td>\n",
       "      <td>N</td>\n",
       "      <td>0</td>\n",
       "      <td>0</td>\n",
       "      <td>-1.830525</td>\n",
       "      <td>5</td>\n",
       "      <td>40</td>\n",
       "      <td>2</td>\n",
       "      <td>3</td>\n",
       "      <td>30000</td>\n",
       "      <td>4</td>\n",
       "      <td>4</td>\n",
       "      <td>N</td>\n",
       "      <td>0</td>\n",
       "      <td>0</td>\n",
       "    </tr>\n",
       "    <tr>\n",
       "      <th>82488</th>\n",
       "      <td>16103</td>\n",
       "      <td>23JAN2014</td>\n",
       "      <td>SCH</td>\n",
       "      <td>M</td>\n",
       "      <td>33</td>\n",
       "      <td>N</td>\n",
       "      <td>N</td>\n",
       "      <td>0</td>\n",
       "      <td>0</td>\n",
       "      <td>-1.524759</td>\n",
       "      <td>4</td>\n",
       "      <td>40</td>\n",
       "      <td>2</td>\n",
       "      <td>3</td>\n",
       "      <td>35000</td>\n",
       "      <td>4</td>\n",
       "      <td>3</td>\n",
       "      <td>N</td>\n",
       "      <td>1</td>\n",
       "      <td>0</td>\n",
       "    </tr>\n",
       "    <tr>\n",
       "      <th>7555</th>\n",
       "      <td>109866</td>\n",
       "      <td>30APR2014</td>\n",
       "      <td>GRD</td>\n",
       "      <td>F</td>\n",
       "      <td>23</td>\n",
       "      <td>N</td>\n",
       "      <td>N</td>\n",
       "      <td>0</td>\n",
       "      <td>0</td>\n",
       "      <td>-2.148795</td>\n",
       "      <td>0</td>\n",
       "      <td>70</td>\n",
       "      <td>2</td>\n",
       "      <td>3</td>\n",
       "      <td>45000</td>\n",
       "      <td>1</td>\n",
       "      <td>2</td>\n",
       "      <td>N</td>\n",
       "      <td>0</td>\n",
       "      <td>0</td>\n",
       "    </tr>\n",
       "  </tbody>\n",
       "</table>\n",
       "</div>"
      ],
      "text/plain": [
       "       client_id   app_date education sex  age car car_type  decline_app_cnt  \\\n",
       "17323      62674  12MAR2014       SCH   M   53   Y        N                0   \n",
       "8721       70899  19MAR2014       SCH   M   36   N        N                0   \n",
       "25493       9166  16JAN2014       GRD   M   37   Y        N                0   \n",
       "82488      16103  23JAN2014       SCH   M   33   N        N                0   \n",
       "7555      109866  30APR2014       GRD   F   23   N        N                0   \n",
       "\n",
       "       good_work  score_bki  bki_request_cnt  region_rating  home_address  \\\n",
       "17323          0  -3.091895                2             60             1   \n",
       "8721           1  -1.186034                1             70             1   \n",
       "25493          0  -1.830525                5             40             2   \n",
       "82488          0  -1.524759                4             40             2   \n",
       "7555           0  -2.148795                0             70             2   \n",
       "\n",
       "       work_address  income  sna  first_time foreign_passport  sample  default  \n",
       "17323             2   55000    1           4                N       0        0  \n",
       "8721              1   40000    1           4                N       0        0  \n",
       "25493             3   30000    4           4                N       0        0  \n",
       "82488             3   35000    4           3                N       1        0  \n",
       "7555              3   45000    1           2                N       0        0  "
      ]
     },
     "execution_count": 10,
     "metadata": {},
     "output_type": "execute_result"
    }
   ],
   "source": [
    "data.sample(5)"
   ]
  },
  {
   "cell_type": "markdown",
   "id": "disabled-kidney",
   "metadata": {
    "papermill": {
     "duration": 0.061584,
     "end_time": "2021-08-10T13:11:38.707293",
     "exception": false,
     "start_time": "2021-08-10T13:11:38.645709",
     "status": "completed"
    },
    "tags": []
   },
   "source": [
    "### 2. Предобработка данных\n",
    "#### 2.1 Обработка NaN"
   ]
  },
  {
   "cell_type": "code",
   "execution_count": 11,
   "id": "lucky-internship",
   "metadata": {
    "execution": {
     "iopub.execute_input": "2021-08-10T13:11:38.839200Z",
     "iopub.status.busy": "2021-08-10T13:11:38.838350Z",
     "iopub.status.idle": "2021-08-10T13:11:38.924817Z",
     "shell.execute_reply": "2021-08-10T13:11:38.924080Z",
     "shell.execute_reply.started": "2021-08-10T13:06:31.857605Z"
    },
    "papermill": {
     "duration": 0.156271,
     "end_time": "2021-08-10T13:11:38.925025",
     "exception": false,
     "start_time": "2021-08-10T13:11:38.768754",
     "status": "completed"
    },
    "tags": []
   },
   "outputs": [
    {
     "data": {
      "text/plain": [
       "client_id             0\n",
       "app_date              0\n",
       "education           478\n",
       "sex                   0\n",
       "age                   0\n",
       "car                   0\n",
       "car_type              0\n",
       "decline_app_cnt       0\n",
       "good_work             0\n",
       "score_bki             0\n",
       "bki_request_cnt       0\n",
       "region_rating         0\n",
       "home_address          0\n",
       "work_address          0\n",
       "income                0\n",
       "sna                   0\n",
       "first_time            0\n",
       "foreign_passport      0\n",
       "sample                0\n",
       "default               0\n",
       "dtype: int64"
      ]
     },
     "execution_count": 11,
     "metadata": {},
     "output_type": "execute_result"
    }
   ],
   "source": [
    "data.isna().sum(axis=0)"
   ]
  },
  {
   "cell_type": "markdown",
   "id": "greater-montgomery",
   "metadata": {
    "papermill": {
     "duration": 0.062764,
     "end_time": "2021-08-10T13:11:39.053448",
     "exception": false,
     "start_time": "2021-08-10T13:11:38.990684",
     "status": "completed"
    },
    "tags": []
   },
   "source": [
    "Как мы видим, пустые значения есть только в колонке education. Исходя из общего количества строк в датасете (110148), можно просто удалить строки, содержащие пустые значения. Однако также можно попробовать заменить их на моду данного столбца.\n",
    "\n",
    "Пойдем по второму пути."
   ]
  },
  {
   "cell_type": "code",
   "execution_count": 12,
   "id": "lightweight-radiation",
   "metadata": {
    "execution": {
     "iopub.execute_input": "2021-08-10T13:11:39.220228Z",
     "iopub.status.busy": "2021-08-10T13:11:39.206823Z",
     "iopub.status.idle": "2021-08-10T13:11:39.230583Z",
     "shell.execute_reply": "2021-08-10T13:11:39.229831Z",
     "shell.execute_reply.started": "2021-08-10T13:06:31.940166Z"
    },
    "papermill": {
     "duration": 0.111408,
     "end_time": "2021-08-10T13:11:39.230776",
     "exception": false,
     "start_time": "2021-08-10T13:11:39.119368",
     "status": "completed"
    },
    "tags": []
   },
   "outputs": [
    {
     "data": {
      "text/plain": [
       "SCH    57998\n",
       "GRD    34768\n",
       "UGR    14748\n",
       "PGR     1865\n",
       "NaN      478\n",
       "ACD      291\n",
       "Name: education, dtype: int64"
      ]
     },
     "execution_count": 12,
     "metadata": {},
     "output_type": "execute_result"
    }
   ],
   "source": [
    "data['education'].value_counts(dropna=False)"
   ]
  },
  {
   "cell_type": "code",
   "execution_count": 13,
   "id": "bigger-vacuum",
   "metadata": {
    "execution": {
     "iopub.execute_input": "2021-08-10T13:11:39.407732Z",
     "iopub.status.busy": "2021-08-10T13:11:39.381662Z",
     "iopub.status.idle": "2021-08-10T13:11:39.415223Z",
     "shell.execute_reply": "2021-08-10T13:11:39.414550Z",
     "shell.execute_reply.started": "2021-08-10T13:06:31.979948Z"
    },
    "papermill": {
     "duration": 0.122418,
     "end_time": "2021-08-10T13:11:39.415413",
     "exception": false,
     "start_time": "2021-08-10T13:11:39.292995",
     "status": "completed"
    },
    "tags": []
   },
   "outputs": [],
   "source": [
    "data['education'] = data['education'].fillna(data['education'].value_counts().index[0])"
   ]
  },
  {
   "cell_type": "code",
   "execution_count": 14,
   "id": "sweet-patio",
   "metadata": {
    "execution": {
     "iopub.execute_input": "2021-08-10T13:11:39.555798Z",
     "iopub.status.busy": "2021-08-10T13:11:39.555019Z",
     "iopub.status.idle": "2021-08-10T13:11:39.596333Z",
     "shell.execute_reply": "2021-08-10T13:11:39.595542Z",
     "shell.execute_reply.started": "2021-08-10T13:06:32.034142Z"
    },
    "papermill": {
     "duration": 0.11345,
     "end_time": "2021-08-10T13:11:39.596588",
     "exception": false,
     "start_time": "2021-08-10T13:11:39.483138",
     "status": "completed"
    },
    "tags": []
   },
   "outputs": [
    {
     "data": {
      "text/plain": [
       "SCH    58476\n",
       "GRD    34768\n",
       "UGR    14748\n",
       "PGR     1865\n",
       "ACD      291\n",
       "Name: education, dtype: int64"
      ]
     },
     "execution_count": 14,
     "metadata": {},
     "output_type": "execute_result"
    }
   ],
   "source": [
    "data['education'].value_counts(dropna=False)"
   ]
  },
  {
   "cell_type": "markdown",
   "id": "perceived-charlotte",
   "metadata": {
    "execution": {
     "iopub.execute_input": "2021-06-17T19:49:36.695909Z",
     "iopub.status.busy": "2021-06-17T19:49:36.695459Z",
     "iopub.status.idle": "2021-06-17T19:49:36.699681Z",
     "shell.execute_reply": "2021-06-17T19:49:36.69897Z",
     "shell.execute_reply.started": "2021-06-17T19:49:36.695875Z"
    },
    "papermill": {
     "duration": 0.068178,
     "end_time": "2021-08-10T13:11:39.732100",
     "exception": false,
     "start_time": "2021-08-10T13:11:39.663922",
     "status": "completed"
    },
    "tags": []
   },
   "source": [
    "#### 2.2 Обработка признаков"
   ]
  },
  {
   "cell_type": "code",
   "execution_count": 15,
   "id": "polar-mississippi",
   "metadata": {
    "execution": {
     "iopub.execute_input": "2021-08-10T13:11:39.871577Z",
     "iopub.status.busy": "2021-08-10T13:11:39.870491Z",
     "iopub.status.idle": "2021-08-10T13:11:39.872545Z",
     "shell.execute_reply": "2021-08-10T13:11:39.873099Z",
     "shell.execute_reply.started": "2021-08-10T13:06:32.075423Z"
    },
    "papermill": {
     "duration": 0.074909,
     "end_time": "2021-08-10T13:11:39.873302",
     "exception": false,
     "start_time": "2021-08-10T13:11:39.798393",
     "status": "completed"
    },
    "tags": []
   },
   "outputs": [],
   "source": [
    "# Для более удобной работы создадим списки по категориям датасета (категориальные,\n",
    "# бинарные, числовые)\n",
    "\n",
    "bin_cols = ['sex', 'car', 'car_type', 'foreign_passport', 'good_work']\n",
    "cat_cols = ['education', 'region_rating', 'home_address', 'work_address', 'app_date', 'sna', 'first_time']\n",
    "num_cols = ['age', 'decline_app_cnt', 'income', 'bki_request_cnt', 'score_bki']"
   ]
  },
  {
   "cell_type": "code",
   "execution_count": 16,
   "id": "delayed-clearing",
   "metadata": {
    "execution": {
     "iopub.execute_input": "2021-08-10T13:11:40.010767Z",
     "iopub.status.busy": "2021-08-10T13:11:40.009858Z",
     "iopub.status.idle": "2021-08-10T13:11:40.018735Z",
     "shell.execute_reply": "2021-08-10T13:11:40.019357Z",
     "shell.execute_reply.started": "2021-08-10T13:06:32.082005Z"
    },
    "papermill": {
     "duration": 0.077614,
     "end_time": "2021-08-10T13:11:40.019588",
     "exception": false,
     "start_time": "2021-08-10T13:11:39.941974",
     "status": "completed"
    },
    "tags": []
   },
   "outputs": [
    {
     "data": {
      "text/plain": [
       "0         22MAR2014\n",
       "1         24JAN2014\n",
       "2         23MAR2014\n",
       "3         03FEB2014\n",
       "4         04FEB2014\n",
       "            ...    \n",
       "110143    04MAR2014\n",
       "110144    24MAR2014\n",
       "110145    22APR2014\n",
       "110146    04JAN2014\n",
       "110147    23JAN2014\n",
       "Name: app_date, Length: 110148, dtype: object"
      ]
     },
     "execution_count": 16,
     "metadata": {},
     "output_type": "execute_result"
    }
   ],
   "source": [
    "data.app_date"
   ]
  },
  {
   "cell_type": "code",
   "execution_count": 17,
   "id": "chicken-sitting",
   "metadata": {
    "execution": {
     "iopub.execute_input": "2021-08-10T13:11:40.157549Z",
     "iopub.status.busy": "2021-08-10T13:11:40.156671Z",
     "iopub.status.idle": "2021-08-10T13:11:41.105055Z",
     "shell.execute_reply": "2021-08-10T13:11:41.104365Z",
     "shell.execute_reply.started": "2021-08-10T13:06:32.098984Z"
    },
    "papermill": {
     "duration": 1.017347,
     "end_time": "2021-08-10T13:11:41.105239",
     "exception": false,
     "start_time": "2021-08-10T13:11:40.087892",
     "status": "completed"
    },
    "tags": []
   },
   "outputs": [],
   "source": [
    "# Преобразуем дату в день\n",
    "data['app_date'] = pd.to_datetime(data['app_date'])\n",
    "data['app_date'] = data['app_date'].apply(lambda x: x.month)\n",
    "\n",
    "# Переведем дату в катеогрию \"численные\", т.к. в дальнейшем это влияет на метрики модели\n",
    "cat_cols.remove('app_date')\n",
    "num_cols.append('app_date')"
   ]
  },
  {
   "cell_type": "markdown",
   "id": "classified-capital",
   "metadata": {
    "papermill": {
     "duration": 0.06775,
     "end_time": "2021-08-10T13:11:41.240756",
     "exception": false,
     "start_time": "2021-08-10T13:11:41.173006",
     "status": "completed"
    },
    "tags": []
   },
   "source": [
    "#### 2.3 Выбросы"
   ]
  },
  {
   "cell_type": "code",
   "execution_count": 18,
   "id": "overhead-working",
   "metadata": {
    "execution": {
     "iopub.execute_input": "2021-08-10T13:11:41.377432Z",
     "iopub.status.busy": "2021-08-10T13:11:41.376532Z",
     "iopub.status.idle": "2021-08-10T13:11:41.427385Z",
     "shell.execute_reply": "2021-08-10T13:11:41.428056Z",
     "shell.execute_reply.started": "2021-08-10T13:06:33.040291Z"
    },
    "papermill": {
     "duration": 0.12306,
     "end_time": "2021-08-10T13:11:41.428297",
     "exception": false,
     "start_time": "2021-08-10T13:11:41.305237",
     "status": "completed"
    },
    "tags": []
   },
   "outputs": [
    {
     "data": {
      "text/plain": [
       "(0.999, 100900.0]        105488\n",
       "(100900.0, 200800.0]       3607\n",
       "(200800.0, 300700.0]        656\n",
       "(300700.0, 400600.0]        171\n",
       "(400600.0, 500500.0]        106\n",
       "(500500.0, 600400.0]         43\n",
       "(900100.0, 1000000.0]        25\n",
       "(600400.0, 700300.0]         22\n",
       "(700300.0, 800200.0]         17\n",
       "(800200.0, 900100.0]         13\n",
       "Name: income, dtype: int64"
      ]
     },
     "execution_count": 18,
     "metadata": {},
     "output_type": "execute_result"
    }
   ],
   "source": [
    "data['income'].value_counts(bins=10)"
   ]
  },
  {
   "cell_type": "code",
   "execution_count": 19,
   "id": "limited-works",
   "metadata": {
    "execution": {
     "iopub.execute_input": "2021-08-10T13:11:41.574763Z",
     "iopub.status.busy": "2021-08-10T13:11:41.573679Z",
     "iopub.status.idle": "2021-08-10T13:11:41.691918Z",
     "shell.execute_reply": "2021-08-10T13:11:41.692879Z",
     "shell.execute_reply.started": "2021-08-10T13:06:33.091863Z"
    },
    "papermill": {
     "duration": 0.197491,
     "end_time": "2021-08-10T13:11:41.693134",
     "exception": false,
     "start_time": "2021-08-10T13:11:41.495643",
     "status": "completed"
    },
    "tags": []
   },
   "outputs": [
    {
     "name": "stdout",
     "output_type": "stream",
     "text": [
      "Column:  age\n",
      "Максимальное значение в данных: 72\n",
      "Минимальное значение в данных: 21\n",
      "25%: 30.0, 75%: 48.0, IQR: 18.0,  Borderline: [3.0, 75.0].\n",
      "\n",
      "Column:  decline_app_cnt\n",
      "Максимальное значение в данных: 33\n",
      "Минимальное значение в данных: 0\n",
      "25%: 0.0, 75%: 0.0, IQR: 0.0,  Borderline: [0.0, 0.0].\n",
      "\n",
      "Column:  income\n",
      "Максимальное значение в данных: 1000000\n",
      "Минимальное значение в данных: 1000\n",
      "25%: 20000.0, 75%: 48000.0, IQR: 28000.0,  Borderline: [-22000.0, 90000.0].\n",
      "\n",
      "Column:  bki_request_cnt\n",
      "Максимальное значение в данных: 53\n",
      "Минимальное значение в данных: 0\n",
      "25%: 0.0, 75%: 3.0, IQR: 3.0,  Borderline: [-4.5, 7.5].\n",
      "\n",
      "Column:  score_bki\n",
      "Максимальное значение в данных: 0.19977285\n",
      "Минимальное значение в данных: -3.62458632\n",
      "25%: -2.2604336700000003, 75%: -1.5678881525, IQR: 0.6925455175000004,  Borderline: [-3.299251946250001, -0.5290698762499992].\n",
      "\n",
      "Column:  app_date\n",
      "Максимальное значение в данных: 4\n",
      "Минимальное значение в данных: 1\n",
      "25%: 2.0, 75%: 3.0, IQR: 1.0,  Borderline: [0.5, 4.5].\n",
      "\n"
     ]
    }
   ],
   "source": [
    "for col in num_cols:\n",
    "    median = data[col].median()\n",
    "    IQR = data[col].quantile(0.75) - data[col].quantile(0.25)\n",
    "    perc25 = data[col].quantile(0.25)\n",
    "    perc75 = data[col].quantile(0.75)\n",
    "    \n",
    "    print(\"Column: \", col)\n",
    "    print(\"Максимальное значение в данных:\", data[col].max())\n",
    "    print(\"Минимальное значение в данных:\", data[col].min())\n",
    "    print('25%: {},'.format(perc25), '75%: {},'.format(perc75),\n",
    "          \"IQR: {}, \".format(IQR), \"Borderline: [{f}, {l}].\".format(f=perc25 - 1.5*IQR, l=perc75 + 1.5*IQR))\n",
    "    print()"
   ]
  },
  {
   "cell_type": "markdown",
   "id": "broadband-pixel",
   "metadata": {
    "papermill": {
     "duration": 0.066487,
     "end_time": "2021-08-10T13:11:41.827812",
     "exception": false,
     "start_time": "2021-08-10T13:11:41.761325",
     "status": "completed"
    },
    "tags": []
   },
   "source": [
    "Просмотрев на распределение численных переменных можно сказать, что \"выбросы\" наблюдаются в колонках decline_app_cnt(количество отказанных прошлых заявок), income(доход заемщика),\n",
    "bki_request_cnt(количество обращений в БКИ) и score_bki.\n",
    "\n",
    "Однако:\n",
    "1) количество отказанных прошлых заявок в большинстве своем (более 85% равнялось 0) и удалять всех людей у которых были отказанные заявки абсолютно неправильно\n",
    "\n",
    "2) доход у 96,2% людей был не более 100 тыс., но ведь есть люди, у которых он сильно больше и этих людей надо учитывать...\n",
    "\n",
    "3) аналогичная ситуация и с количеством обращений"
   ]
  },
  {
   "cell_type": "markdown",
   "id": "neutral-halloween",
   "metadata": {
    "papermill": {
     "duration": 0.070243,
     "end_time": "2021-08-10T13:11:41.966056",
     "exception": false,
     "start_time": "2021-08-10T13:11:41.895813",
     "status": "completed"
    },
    "tags": []
   },
   "source": [
    "### 3. Визуализация"
   ]
  },
  {
   "cell_type": "code",
   "execution_count": 20,
   "id": "spiritual-wellington",
   "metadata": {
    "execution": {
     "iopub.execute_input": "2021-08-10T13:11:42.116496Z",
     "iopub.status.busy": "2021-08-10T13:11:42.115668Z",
     "iopub.status.idle": "2021-08-10T13:11:42.356887Z",
     "shell.execute_reply": "2021-08-10T13:11:42.356153Z",
     "shell.execute_reply.started": "2021-08-10T13:06:33.196635Z"
    },
    "papermill": {
     "duration": 0.320555,
     "end_time": "2021-08-10T13:11:42.357076",
     "exception": false,
     "start_time": "2021-08-10T13:11:42.036521",
     "status": "completed"
    },
    "tags": []
   },
   "outputs": [
    {
     "name": "stdout",
     "output_type": "stream",
     "text": [
      "10.752880921895006\n"
     ]
    },
    {
     "data": {
      "image/png": "[encoded data removed]",
      "text/plain": [
       "<Figure size 432x288 with 1 Axes>"
      ]
     },
     "metadata": {
      "needs_background": "light"
     },
     "output_type": "display_data"
    }
   ],
   "source": [
    "data['default'].value_counts().plot.barh()\n",
    "print(len(data[data['default']==0])/len(data[data['default']==1]))"
   ]
  },
  {
   "cell_type": "markdown",
   "id": "dressed-immune",
   "metadata": {
    "papermill": {
     "duration": 0.067702,
     "end_time": "2021-08-10T13:11:42.492555",
     "exception": false,
     "start_time": "2021-08-10T13:11:42.424853",
     "status": "completed"
    },
    "tags": []
   },
   "source": [
    "Как мы можем видеть, клиенты без дефолта преобладают нам клиентами с дефолтом почти в 11 раз."
   ]
  },
  {
   "cell_type": "code",
   "execution_count": 21,
   "id": "concrete-kazakhstan",
   "metadata": {
    "execution": {
     "iopub.execute_input": "2021-08-10T13:11:42.674707Z",
     "iopub.status.busy": "2021-08-10T13:11:42.673407Z",
     "iopub.status.idle": "2021-08-10T13:11:43.665988Z",
     "shell.execute_reply": "2021-08-10T13:11:43.666592Z",
     "shell.execute_reply.started": "2021-08-10T13:06:33.410475Z"
    },
    "papermill": {
     "duration": 1.106869,
     "end_time": "2021-08-10T13:11:43.666782",
     "exception": false,
     "start_time": "2021-08-10T13:11:42.559913",
     "status": "completed"
    },
    "tags": []
   },
   "outputs": [
    {
     "data": {
      "text/plain": [
       "Text(0.5, 1.0, 'income')"
      ]
     },
     "execution_count": 21,
     "metadata": {},
     "output_type": "execute_result"
    },
    {
     "data": {
      "image/png": "[encoded data removed]",
      "text/plain": [
       "<Figure size 720x720 with 4 Axes>"
      ]
     },
     "metadata": {
      "needs_background": "light"
     },
     "output_type": "display_data"
    }
   ],
   "source": [
    "fig, axes = plt.subplots(2, 2, figsize=(10,10))\n",
    "\n",
    "axes[0,0].hist(data['age'], bins = 50)\n",
    "axes[0,0].set_title(\"age\")\n",
    "\n",
    "axes[0,1].hist(data['decline_app_cnt'], bins = 50, range=(0,10))\n",
    "axes[0,1].set_title(\"decline_app_cnt\")\n",
    "\n",
    "axes[1,0].hist(data['bki_request_cnt'], bins = 50,  range=(0,20))\n",
    "axes[1,0].set_title(\"bki_request_cnt\")\n",
    "\n",
    "axes[1,1].hist(data['income'], bins = 50)\n",
    "axes[1,1].set_title(\"income\")"
   ]
  },
  {
   "cell_type": "markdown",
   "id": "generic-rwanda",
   "metadata": {
    "execution": {
     "iopub.execute_input": "2021-06-18T07:35:18.370238Z",
     "iopub.status.busy": "2021-06-18T07:35:18.369831Z",
     "iopub.status.idle": "2021-06-18T07:35:18.376645Z",
     "shell.execute_reply": "2021-06-18T07:35:18.37518Z",
     "shell.execute_reply.started": "2021-06-18T07:35:18.370202Z"
    },
    "papermill": {
     "duration": 0.065384,
     "end_time": "2021-08-10T13:11:43.798206",
     "exception": false,
     "start_time": "2021-08-10T13:11:43.732822",
     "status": "completed"
    },
    "tags": []
   },
   "source": [
    "По данным гистограммам можно сделать вывод, что распределения не являются нормальными и смещены вправо. При построении модели необходимо будет выполнить стандартизацию численных признаков."
   ]
  },
  {
   "cell_type": "markdown",
   "id": "instrumental-acrylic",
   "metadata": {
    "papermill": {
     "duration": 0.065336,
     "end_time": "2021-08-10T13:11:43.929675",
     "exception": false,
     "start_time": "2021-08-10T13:11:43.864339",
     "status": "completed"
    },
    "tags": []
   },
   "source": [
    "### 4. Оценка корреляции"
   ]
  },
  {
   "cell_type": "code",
   "execution_count": 22,
   "id": "developing-reverse",
   "metadata": {
    "execution": {
     "iopub.execute_input": "2021-08-10T13:11:44.098670Z",
     "iopub.status.busy": "2021-08-10T13:11:44.097222Z",
     "iopub.status.idle": "2021-08-10T13:11:44.605426Z",
     "shell.execute_reply": "2021-08-10T13:11:44.603608Z",
     "shell.execute_reply.started": "2021-08-10T13:06:34.304724Z"
    },
    "papermill": {
     "duration": 0.61149,
     "end_time": "2021-08-10T13:11:44.605911",
     "exception": false,
     "start_time": "2021-08-10T13:11:43.994421",
     "status": "completed"
    },
    "tags": []
   },
   "outputs": [
    {
     "data": {
      "text/plain": [
       "<AxesSubplot:>"
      ]
     },
     "execution_count": 22,
     "metadata": {},
     "output_type": "execute_result"
    },
    {
     "data": {
      "image/png": "[encoded data removed]",
      "text/plain": [
       "<Figure size 504x504 with 2 Axes>"
      ]
     },
     "metadata": {},
     "output_type": "display_data"
    }
   ],
   "source": [
    "# Посмотрим матрицу коэффициента корреляции численных признаком\n",
    "sns.set(font_scale = 1)\n",
    "fig, axis = plt.subplots(figsize=(7,7))\n",
    "sns.heatmap(data[num_cols].corr().abs(), vmin=0, vmax=1, square=True,\n",
    "           annot=True, fmt=\".2f\", linewidths=0.1)"
   ]
  },
  {
   "cell_type": "markdown",
   "id": "south-chapel",
   "metadata": {
    "papermill": {
     "duration": 0.068107,
     "end_time": "2021-08-10T13:11:44.742233",
     "exception": false,
     "start_time": "2021-08-10T13:11:44.674126",
     "status": "completed"
    },
    "tags": []
   },
   "source": [
    "Исходя из данной матрицы корреляции видно, что признаки между собой скореллированы слабо. Поэтому оставим их все для модели."
   ]
  },
  {
   "cell_type": "markdown",
   "id": "atlantic-webcam",
   "metadata": {
    "papermill": {
     "duration": 0.067215,
     "end_time": "2021-08-10T13:11:44.876573",
     "exception": false,
     "start_time": "2021-08-10T13:11:44.809358",
     "status": "completed"
    },
    "tags": []
   },
   "source": [
    "### 5. Значимость непрерывных признаков"
   ]
  },
  {
   "cell_type": "code",
   "execution_count": 23,
   "id": "fossil-fluid",
   "metadata": {
    "execution": {
     "iopub.execute_input": "2021-08-10T13:11:45.022719Z",
     "iopub.status.busy": "2021-08-10T13:11:45.021924Z",
     "iopub.status.idle": "2021-08-10T13:11:45.247169Z",
     "shell.execute_reply": "2021-08-10T13:11:45.246566Z",
     "shell.execute_reply.started": "2021-08-10T13:06:34.81414Z"
    },
    "papermill": {
     "duration": 0.302561,
     "end_time": "2021-08-10T13:11:45.247319",
     "exception": false,
     "start_time": "2021-08-10T13:11:44.944758",
     "status": "completed"
    },
    "tags": []
   },
   "outputs": [
    {
     "data": {
      "text/plain": [
       "<AxesSubplot:>"
      ]
     },
     "execution_count": 23,
     "metadata": {},
     "output_type": "execute_result"
    },
    {
     "data": {
      "image/png": "[encoded data removed]",
      "text/plain": [
       "<Figure size 432x288 with 1 Axes>"
      ]
     },
     "metadata": {},
     "output_type": "display_data"
    }
   ],
   "source": [
    "imp_num = pd.Series(f_classif(data[num_cols], data['default'])[0], index = num_cols)\n",
    "imp_num.sort_values(inplace = True)\n",
    "imp_num.plot(kind = 'barh', color='green')"
   ]
  },
  {
   "cell_type": "markdown",
   "id": "tribal-necklace",
   "metadata": {
    "papermill": {
     "duration": 0.069113,
     "end_time": "2021-08-10T13:11:45.384055",
     "exception": false,
     "start_time": "2021-08-10T13:11:45.314942",
     "status": "completed"
    },
    "tags": []
   },
   "source": [
    "Скоринговый балл по данным из БКИ (score_bki) является одним из самых значимых числовых признаков"
   ]
  },
  {
   "cell_type": "markdown",
   "id": "academic-bonus",
   "metadata": {
    "execution": {
     "iopub.execute_input": "2021-06-18T07:56:08.832195Z",
     "iopub.status.busy": "2021-06-18T07:56:08.831779Z",
     "iopub.status.idle": "2021-06-18T07:56:08.835761Z",
     "shell.execute_reply": "2021-06-18T07:56:08.834815Z",
     "shell.execute_reply.started": "2021-06-18T07:56:08.832158Z"
    },
    "papermill": {
     "duration": 0.067291,
     "end_time": "2021-08-10T13:11:45.520131",
     "exception": false,
     "start_time": "2021-08-10T13:11:45.452840",
     "status": "completed"
    },
    "tags": []
   },
   "source": [
    "### 6. Оценка категориальных признаков"
   ]
  },
  {
   "cell_type": "code",
   "execution_count": 24,
   "id": "structured-orlando",
   "metadata": {
    "execution": {
     "iopub.execute_input": "2021-08-10T13:11:45.675503Z",
     "iopub.status.busy": "2021-08-10T13:11:45.670258Z",
     "iopub.status.idle": "2021-08-10T13:11:45.898279Z",
     "shell.execute_reply": "2021-08-10T13:11:45.898831Z",
     "shell.execute_reply.started": "2021-08-10T13:06:35.032161Z"
    },
    "papermill": {
     "duration": 0.311414,
     "end_time": "2021-08-10T13:11:45.899037",
     "exception": false,
     "start_time": "2021-08-10T13:11:45.587623",
     "status": "completed"
    },
    "tags": []
   },
   "outputs": [
    {
     "data": {
      "text/html": [
       "<div>\n",
       "<style scoped>\n",
       "    .dataframe tbody tr th:only-of-type {\n",
       "        vertical-align: middle;\n",
       "    }\n",
       "\n",
       "    .dataframe tbody tr th {\n",
       "        vertical-align: top;\n",
       "    }\n",
       "\n",
       "    .dataframe thead th {\n",
       "        text-align: right;\n",
       "    }\n",
       "</style>\n",
       "<table border=\"1\" class=\"dataframe\">\n",
       "  <thead>\n",
       "    <tr style=\"text-align: right;\">\n",
       "      <th></th>\n",
       "      <th>client_id</th>\n",
       "      <th>app_date</th>\n",
       "      <th>education</th>\n",
       "      <th>sex</th>\n",
       "      <th>age</th>\n",
       "      <th>car</th>\n",
       "      <th>car_type</th>\n",
       "      <th>decline_app_cnt</th>\n",
       "      <th>good_work</th>\n",
       "      <th>score_bki</th>\n",
       "      <th>bki_request_cnt</th>\n",
       "      <th>region_rating</th>\n",
       "      <th>home_address</th>\n",
       "      <th>work_address</th>\n",
       "      <th>income</th>\n",
       "      <th>sna</th>\n",
       "      <th>first_time</th>\n",
       "      <th>foreign_passport</th>\n",
       "      <th>sample</th>\n",
       "      <th>default</th>\n",
       "    </tr>\n",
       "  </thead>\n",
       "  <tbody>\n",
       "    <tr>\n",
       "      <th>0</th>\n",
       "      <td>74835</td>\n",
       "      <td>3</td>\n",
       "      <td>1</td>\n",
       "      <td>1</td>\n",
       "      <td>29</td>\n",
       "      <td>1</td>\n",
       "      <td>1</td>\n",
       "      <td>0</td>\n",
       "      <td>0</td>\n",
       "      <td>-2.271884</td>\n",
       "      <td>3</td>\n",
       "      <td>50</td>\n",
       "      <td>1</td>\n",
       "      <td>2</td>\n",
       "      <td>50000</td>\n",
       "      <td>1</td>\n",
       "      <td>4</td>\n",
       "      <td>0</td>\n",
       "      <td>0</td>\n",
       "      <td>0</td>\n",
       "    </tr>\n",
       "    <tr>\n",
       "      <th>1</th>\n",
       "      <td>17527</td>\n",
       "      <td>1</td>\n",
       "      <td>3</td>\n",
       "      <td>0</td>\n",
       "      <td>39</td>\n",
       "      <td>0</td>\n",
       "      <td>0</td>\n",
       "      <td>5</td>\n",
       "      <td>0</td>\n",
       "      <td>-1.504999</td>\n",
       "      <td>2</td>\n",
       "      <td>50</td>\n",
       "      <td>1</td>\n",
       "      <td>2</td>\n",
       "      <td>5000</td>\n",
       "      <td>4</td>\n",
       "      <td>3</td>\n",
       "      <td>0</td>\n",
       "      <td>0</td>\n",
       "      <td>0</td>\n",
       "    </tr>\n",
       "    <tr>\n",
       "      <th>2</th>\n",
       "      <td>75683</td>\n",
       "      <td>3</td>\n",
       "      <td>4</td>\n",
       "      <td>1</td>\n",
       "      <td>50</td>\n",
       "      <td>1</td>\n",
       "      <td>1</td>\n",
       "      <td>0</td>\n",
       "      <td>0</td>\n",
       "      <td>-1.691339</td>\n",
       "      <td>1</td>\n",
       "      <td>50</td>\n",
       "      <td>1</td>\n",
       "      <td>2</td>\n",
       "      <td>30000</td>\n",
       "      <td>1</td>\n",
       "      <td>3</td>\n",
       "      <td>1</td>\n",
       "      <td>0</td>\n",
       "      <td>0</td>\n",
       "    </tr>\n",
       "    <tr>\n",
       "      <th>3</th>\n",
       "      <td>26883</td>\n",
       "      <td>2</td>\n",
       "      <td>3</td>\n",
       "      <td>1</td>\n",
       "      <td>56</td>\n",
       "      <td>0</td>\n",
       "      <td>0</td>\n",
       "      <td>0</td>\n",
       "      <td>0</td>\n",
       "      <td>-2.374182</td>\n",
       "      <td>1</td>\n",
       "      <td>40</td>\n",
       "      <td>1</td>\n",
       "      <td>2</td>\n",
       "      <td>17000</td>\n",
       "      <td>1</td>\n",
       "      <td>3</td>\n",
       "      <td>0</td>\n",
       "      <td>0</td>\n",
       "      <td>0</td>\n",
       "    </tr>\n",
       "    <tr>\n",
       "      <th>4</th>\n",
       "      <td>28862</td>\n",
       "      <td>2</td>\n",
       "      <td>1</td>\n",
       "      <td>0</td>\n",
       "      <td>38</td>\n",
       "      <td>0</td>\n",
       "      <td>0</td>\n",
       "      <td>0</td>\n",
       "      <td>0</td>\n",
       "      <td>-2.487502</td>\n",
       "      <td>0</td>\n",
       "      <td>80</td>\n",
       "      <td>2</td>\n",
       "      <td>3</td>\n",
       "      <td>120000</td>\n",
       "      <td>1</td>\n",
       "      <td>3</td>\n",
       "      <td>0</td>\n",
       "      <td>0</td>\n",
       "      <td>0</td>\n",
       "    </tr>\n",
       "  </tbody>\n",
       "</table>\n",
       "</div>"
      ],
      "text/plain": [
       "   client_id  app_date  education  sex  age  car  car_type  decline_app_cnt  \\\n",
       "0      74835         3          1    1   29    1         1                0   \n",
       "1      17527         1          3    0   39    0         0                5   \n",
       "2      75683         3          4    1   50    1         1                0   \n",
       "3      26883         2          3    1   56    0         0                0   \n",
       "4      28862         2          1    0   38    0         0                0   \n",
       "\n",
       "   good_work  score_bki  bki_request_cnt  region_rating  home_address  \\\n",
       "0          0  -2.271884                3             50             1   \n",
       "1          0  -1.504999                2             50             1   \n",
       "2          0  -1.691339                1             50             1   \n",
       "3          0  -2.374182                1             40             1   \n",
       "4          0  -2.487502                0             80             2   \n",
       "\n",
       "   work_address  income  sna  first_time  foreign_passport  sample  default  \n",
       "0             2   50000    1           4                 0       0        0  \n",
       "1             2    5000    4           3                 0       0        0  \n",
       "2             2   30000    1           3                 1       0        0  \n",
       "3             2   17000    1           3                 0       0        0  \n",
       "4             3  120000    1           3                 0       0        0  "
      ]
     },
     "execution_count": 24,
     "metadata": {},
     "output_type": "execute_result"
    }
   ],
   "source": [
    "# Для бинарных признаков мы будем использовать LabelEncoder\n",
    "\n",
    "label_encoder = LabelEncoder()\n",
    "\n",
    "for column in bin_cols:\n",
    "    data[column] = label_encoder.fit_transform(data[column])\n",
    "    \n",
    "data['education'] = label_encoder.fit_transform(data['education'])\n",
    "# убедимся в преобразовании    \n",
    "data.head()"
   ]
  },
  {
   "cell_type": "code",
   "execution_count": 25,
   "id": "significant-perspective",
   "metadata": {
    "execution": {
     "iopub.execute_input": "2021-08-10T13:11:46.046464Z",
     "iopub.status.busy": "2021-08-10T13:11:46.045140Z",
     "iopub.status.idle": "2021-08-10T13:11:46.527196Z",
     "shell.execute_reply": "2021-08-10T13:11:46.527727Z",
     "shell.execute_reply.started": "2021-08-10T13:06:35.264983Z"
    },
    "papermill": {
     "duration": 0.558888,
     "end_time": "2021-08-10T13:11:46.527943",
     "exception": false,
     "start_time": "2021-08-10T13:11:45.969055",
     "status": "completed"
    },
    "tags": []
   },
   "outputs": [
    {
     "data": {
      "text/plain": [
       "<AxesSubplot:>"
      ]
     },
     "execution_count": 25,
     "metadata": {},
     "output_type": "execute_result"
    },
    {
     "data": {
      "image/png": "[encoded data removed]",
      "text/plain": [
       "<Figure size 432x288 with 1 Axes>"
      ]
     },
     "metadata": {},
     "output_type": "display_data"
    }
   ],
   "source": [
    "imp_cat = Series(mutual_info_classif(data[bin_cols + cat_cols], data['default'],\n",
    "                                     discrete_features =True), index = bin_cols + cat_cols)\n",
    "imp_cat.sort_values(inplace = True)\n",
    "imp_cat.plot(kind = 'barh', color='green')"
   ]
  },
  {
   "cell_type": "markdown",
   "id": "material-pharmaceutical",
   "metadata": {
    "papermill": {
     "duration": 0.069201,
     "end_time": "2021-08-10T13:11:46.665305",
     "exception": false,
     "start_time": "2021-08-10T13:11:46.596104",
     "status": "completed"
    },
    "tags": []
   },
   "source": [
    "Исходя из анализа mutual_info_classif наиболее важным из категориальных признаков является sna"
   ]
  },
  {
   "cell_type": "markdown",
   "id": "ambient-sierra",
   "metadata": {
    "papermill": {
     "duration": 0.067901,
     "end_time": "2021-08-10T13:11:46.802045",
     "exception": false,
     "start_time": "2021-08-10T13:11:46.734144",
     "status": "completed"
    },
    "tags": []
   },
   "source": [
    "### 7. Feature Engineering"
   ]
  },
  {
   "cell_type": "code",
   "execution_count": 26,
   "id": "round-favorite",
   "metadata": {
    "execution": {
     "iopub.execute_input": "2021-08-10T13:11:46.947876Z",
     "iopub.status.busy": "2021-08-10T13:11:46.947086Z",
     "iopub.status.idle": "2021-08-10T13:11:46.950028Z",
     "shell.execute_reply": "2021-08-10T13:11:46.950556Z",
     "shell.execute_reply.started": "2021-08-10T13:06:35.727198Z"
    },
    "papermill": {
     "duration": 0.07857,
     "end_time": "2021-08-10T13:11:46.950754",
     "exception": false,
     "start_time": "2021-08-10T13:11:46.872184",
     "status": "completed"
    },
    "tags": []
   },
   "outputs": [],
   "source": [
    "# Переведем колонки region_rating, first_time и home_address из категориальных в численные,\n",
    "# т.к. при их стандартизации значение метрики roc-auc получается выше, чем при создании из\n",
    "# них dummy-переменных\n",
    "cat_cols.remove('region_rating')\n",
    "num_cols.append('region_rating')\n",
    "\n",
    "cat_cols.remove('first_time')\n",
    "num_cols.append('first_time')\n",
    "\n",
    "cat_cols.remove('home_address')\n",
    "num_cols.append('home_address')"
   ]
  },
  {
   "cell_type": "markdown",
   "id": "subtle-scientist",
   "metadata": {
    "papermill": {
     "duration": 0.06977,
     "end_time": "2021-08-10T13:11:47.091431",
     "exception": false,
     "start_time": "2021-08-10T13:11:47.021661",
     "status": "completed"
    },
    "tags": []
   },
   "source": [
    "### 8. Подготовка данных к машинному обучению"
   ]
  },
  {
   "cell_type": "code",
   "execution_count": 27,
   "id": "early-dinner",
   "metadata": {
    "execution": {
     "iopub.execute_input": "2021-08-10T13:11:47.236427Z",
     "iopub.status.busy": "2021-08-10T13:11:47.235329Z",
     "iopub.status.idle": "2021-08-10T13:11:47.264379Z",
     "shell.execute_reply": "2021-08-10T13:11:47.264922Z",
     "shell.execute_reply.started": "2021-08-10T13:06:35.735002Z"
    },
    "papermill": {
     "duration": 0.101457,
     "end_time": "2021-08-10T13:11:47.265146",
     "exception": false,
     "start_time": "2021-08-10T13:11:47.163689",
     "status": "completed"
    },
    "tags": []
   },
   "outputs": [],
   "source": [
    "# Преобразуем категориальные признаки с помощью get_dummies\n",
    "data = pd.get_dummies(data, columns=cat_cols)"
   ]
  },
  {
   "cell_type": "code",
   "execution_count": 28,
   "id": "previous-captain",
   "metadata": {
    "execution": {
     "iopub.execute_input": "2021-08-10T13:11:47.410272Z",
     "iopub.status.busy": "2021-08-10T13:11:47.408626Z",
     "iopub.status.idle": "2021-08-10T13:11:47.476910Z",
     "shell.execute_reply": "2021-08-10T13:11:47.476343Z",
     "shell.execute_reply.started": "2021-08-10T13:06:35.778334Z"
    },
    "papermill": {
     "duration": 0.143764,
     "end_time": "2021-08-10T13:11:47.477085",
     "exception": false,
     "start_time": "2021-08-10T13:11:47.333321",
     "status": "completed"
    },
    "tags": []
   },
   "outputs": [],
   "source": [
    "# выполним стандартизацию численных переменных\n",
    "data[num_cols] = pd.DataFrame(StandardScaler().fit_transform(data[num_cols]),\n",
    "                              columns=num_cols)"
   ]
  },
  {
   "cell_type": "code",
   "execution_count": 29,
   "id": "established-chosen",
   "metadata": {
    "execution": {
     "iopub.execute_input": "2021-08-10T13:11:47.620622Z",
     "iopub.status.busy": "2021-08-10T13:11:47.619476Z",
     "iopub.status.idle": "2021-08-10T13:11:47.662902Z",
     "shell.execute_reply": "2021-08-10T13:11:47.662155Z",
     "shell.execute_reply.started": "2021-08-10T13:06:35.865546Z"
    },
    "papermill": {
     "duration": 0.117635,
     "end_time": "2021-08-10T13:11:47.663079",
     "exception": false,
     "start_time": "2021-08-10T13:11:47.545444",
     "status": "completed"
    },
    "tags": []
   },
   "outputs": [],
   "source": [
    "# Разделим обратно на train и test\n",
    "train = data.query('sample == 1').drop(['sample'], axis=1)\n",
    "test = data.query('sample == 0').drop(['sample'], axis=1)"
   ]
  },
  {
   "cell_type": "code",
   "execution_count": 30,
   "id": "occupational-collection",
   "metadata": {
    "execution": {
     "iopub.execute_input": "2021-08-10T13:11:47.808163Z",
     "iopub.status.busy": "2021-08-10T13:11:47.807234Z",
     "iopub.status.idle": "2021-08-10T13:11:47.811578Z",
     "shell.execute_reply": "2021-08-10T13:11:47.811016Z",
     "shell.execute_reply.started": "2021-08-10T13:06:35.916571Z"
    },
    "papermill": {
     "duration": 0.080581,
     "end_time": "2021-08-10T13:11:47.811736",
     "exception": false,
     "start_time": "2021-08-10T13:11:47.731155",
     "status": "completed"
    },
    "tags": []
   },
   "outputs": [],
   "source": [
    "# удалим для X целевую переменную и client_id\n",
    "X = train.drop(columns = ['default', 'client_id'])\n",
    "Y = train['default']"
   ]
  },
  {
   "cell_type": "code",
   "execution_count": 31,
   "id": "cardiovascular-profile",
   "metadata": {
    "execution": {
     "iopub.execute_input": "2021-08-10T13:11:47.956682Z",
     "iopub.status.busy": "2021-08-10T13:11:47.955567Z",
     "iopub.status.idle": "2021-08-10T13:11:47.979500Z",
     "shell.execute_reply": "2021-08-10T13:11:47.978898Z",
     "shell.execute_reply.started": "2021-08-10T13:06:35.929224Z"
    },
    "papermill": {
     "duration": 0.099462,
     "end_time": "2021-08-10T13:11:47.979662",
     "exception": false,
     "start_time": "2021-08-10T13:11:47.880200",
     "status": "completed"
    },
    "tags": []
   },
   "outputs": [],
   "source": [
    "# Разделим выборку на train и test\n",
    "X_train, X_test, Y_train, Y_test = train_test_split(X, Y, random_state = RANDOM_SEED,\n",
    "                                                    test_size=0.2)"
   ]
  },
  {
   "cell_type": "markdown",
   "id": "thick-appliance",
   "metadata": {
    "papermill": {
     "duration": 0.068966,
     "end_time": "2021-08-10T13:11:48.116563",
     "exception": false,
     "start_time": "2021-08-10T13:11:48.047597",
     "status": "completed"
    },
    "tags": []
   },
   "source": [
    "### 9.Модели\n",
    "#### 9.1 Логистическая регрессия"
   ]
  },
  {
   "cell_type": "code",
   "execution_count": 32,
   "id": "peripheral-relaxation",
   "metadata": {
    "execution": {
     "iopub.execute_input": "2021-08-10T13:11:48.266324Z",
     "iopub.status.busy": "2021-08-10T13:11:48.265560Z",
     "iopub.status.idle": "2021-08-10T13:11:49.950617Z",
     "shell.execute_reply": "2021-08-10T13:11:49.949504Z",
     "shell.execute_reply.started": "2021-08-10T13:06:35.961299Z"
    },
    "papermill": {
     "duration": 1.764761,
     "end_time": "2021-08-10T13:11:49.950784",
     "exception": false,
     "start_time": "2021-08-10T13:11:48.186023",
     "status": "completed"
    },
    "tags": []
   },
   "outputs": [
    {
     "data": {
      "text/plain": [
       "<matplotlib.legend.Legend at 0x7f95671fc850>"
      ]
     },
     "execution_count": 32,
     "metadata": {},
     "output_type": "execute_result"
    },
    {
     "data": {
      "image/png": "[encoded data removed]",
      "text/plain": [
       "<Figure size 720x360 with 1 Axes>"
      ]
     },
     "metadata": {},
     "output_type": "display_data"
    }
   ],
   "source": [
    "# Построим модель логистической регресии с параметрами \"по умолчанию\"\n",
    "model = LogisticRegression()\n",
    "model.fit(X_train, Y_train)\n",
    "probs = model.predict_proba(X_test)\n",
    "y_pred = model.predict(X_test)\n",
    "probs = probs[:,1]\n",
    "\n",
    "fpr, tpr, threshold = roc_curve(Y_test, probs)\n",
    "roc_auc = roc_auc_score(Y_test, probs)\n",
    "\n",
    "fig, ax = plt.subplots(figsize=(10,5))\n",
    "plt.plot([0, 1], label='Baseline', linestyle='--')\n",
    "plt.plot(fpr, tpr, label = 'Regression')\n",
    "ax.set_title('Logistic Regression ROC AUC = %0.3f'%roc_auc)\n",
    "plt.ylabel('True Positive Rate')\n",
    "plt.xlabel('False Positive Rate')\n",
    "plt.legend(loc='lower right')"
   ]
  },
  {
   "cell_type": "code",
   "execution_count": 33,
   "id": "unlimited-genealogy",
   "metadata": {
    "execution": {
     "iopub.execute_input": "2021-08-10T13:11:50.099919Z",
     "iopub.status.busy": "2021-08-10T13:11:50.098507Z",
     "iopub.status.idle": "2021-08-10T13:11:50.119516Z",
     "shell.execute_reply": "2021-08-10T13:11:50.118939Z",
     "shell.execute_reply.started": "2021-08-10T13:06:37.463152Z"
    },
    "papermill": {
     "duration": 0.099214,
     "end_time": "2021-08-10T13:11:50.119669",
     "exception": false,
     "start_time": "2021-08-10T13:11:50.020455",
     "status": "completed"
    },
    "tags": []
   },
   "outputs": [
    {
     "name": "stdout",
     "output_type": "stream",
     "text": [
      "accuracy_score: 0.8736\n",
      "f1_score: 0.0557\n",
      "recall_score: 0.0296\n",
      "MSE: 0.1264\n"
     ]
    }
   ],
   "source": [
    "print('accuracy_score: {}'.format(np.round(accuracy_score(Y_test, y_pred), 4)))\n",
    "print('f1_score: {}'.format(np.round(f1_score(Y_test, y_pred), 4)))\n",
    "print('recall_score: {}'.format(np.round(recall_score(Y_test, y_pred), 4)))\n",
    "print('MSE: {}'.format(np.round(mean_squared_error(Y_test, y_pred), 4)))"
   ]
  },
  {
   "cell_type": "code",
   "execution_count": 34,
   "id": "opponent-swift",
   "metadata": {
    "execution": {
     "iopub.execute_input": "2021-08-10T13:11:50.268232Z",
     "iopub.status.busy": "2021-08-10T13:11:50.267106Z",
     "iopub.status.idle": "2021-08-10T13:11:50.537322Z",
     "shell.execute_reply": "2021-08-10T13:11:50.536752Z",
     "shell.execute_reply.started": "2021-08-10T13:06:37.488294Z"
    },
    "papermill": {
     "duration": 0.34777,
     "end_time": "2021-08-10T13:11:50.537476",
     "exception": false,
     "start_time": "2021-08-10T13:11:50.189706",
     "status": "completed"
    },
    "tags": []
   },
   "outputs": [
    {
     "data": {
      "image/png": "[encoded data removed]",
      "text/plain": [
       "<Figure size 432x288 with 2 Axes>"
      ]
     },
     "metadata": {},
     "output_type": "display_data"
    }
   ],
   "source": [
    "# Визуализация confusion matrix:\n",
    "sns.set_context(context='paper', font_scale=2, rc=None)\n",
    "group_names = ['True Pos', 'False Pos', 'False Neg', 'True Neg']\n",
    "group_counts = ['{0:0.0f}'.format(value) for value in\n",
    "                confusion_matrix(Y_test, y_pred).flatten()]\n",
    "labels = [f'{v1}\\n{v2}' for v1, v2 in\n",
    "          zip(group_names, group_counts)]\n",
    "labels = np.asarray(labels).reshape(2, 2)\n",
    "ax = sns.heatmap(confusion_matrix(Y_test, y_pred), annot=labels, fmt='', cmap='Greens')\n",
    "ax.set(xlabel='predicted', ylabel='real',title = 'Confusion matrix')\n",
    "plt.show()"
   ]
  },
  {
   "cell_type": "markdown",
   "id": "harmful-metabolism",
   "metadata": {
    "papermill": {
     "duration": 0.071023,
     "end_time": "2021-08-10T13:11:50.679365",
     "exception": false,
     "start_time": "2021-08-10T13:11:50.608342",
     "status": "completed"
    },
    "tags": []
   },
   "source": [
    "Модель логистической регрессии с параметрами \"по умолчанию\" имеет достаточно высокую точность, однако, оценив матрицу ошибок, можно сделать вывод, что почти во всех случаях, когда клиент не способен выплатить кредит - модель все равно его выдаст. Данное решение приведет к падению доходов банка. Попробуем найти оптимальные гиперпараметры."
   ]
  },
  {
   "cell_type": "markdown",
   "id": "sunrise-modification",
   "metadata": {
    "papermill": {
     "duration": 0.071018,
     "end_time": "2021-08-10T13:11:50.821373",
     "exception": false,
     "start_time": "2021-08-10T13:11:50.750355",
     "status": "completed"
    },
    "tags": []
   },
   "source": [
    "#### 9.1.1 Логистическая регрессия (гиперпараметры)"
   ]
  },
  {
   "cell_type": "code",
   "execution_count": 35,
   "id": "supported-passion",
   "metadata": {
    "execution": {
     "iopub.execute_input": "2021-08-10T13:11:50.975284Z",
     "iopub.status.busy": "2021-08-10T13:11:50.974209Z",
     "iopub.status.idle": "2021-08-10T13:12:24.645902Z",
     "shell.execute_reply": "2021-08-10T13:12:24.645297Z",
     "shell.execute_reply.started": "2021-08-10T13:06:37.8011Z"
    },
    "papermill": {
     "duration": 33.753788,
     "end_time": "2021-08-10T13:12:24.646077",
     "exception": false,
     "start_time": "2021-08-10T13:11:50.892289",
     "status": "completed"
    },
    "tags": []
   },
   "outputs": [
    {
     "name": "stdout",
     "output_type": "stream",
     "text": [
      "Fitting 2 folds for each of 50 candidates, totalling 100 fits\n"
     ]
    },
    {
     "data": {
      "text/plain": [
       "<matplotlib.legend.Legend at 0x7f9566ee3c90>"
      ]
     },
     "execution_count": 35,
     "metadata": {},
     "output_type": "execute_result"
    },
    {
     "data": {
      "image/png": "[encoded data removed]",
      "text/plain": [
       "<Figure size 720x360 with 1 Axes>"
      ]
     },
     "metadata": {},
     "output_type": "display_data"
    }
   ],
   "source": [
    "# Попробуем поменять class_weight и с помощью GridSearchCV найти оптимальные параметры\n",
    "lr_best = LogisticRegression(class_weight='balanced',\n",
    "                            random_state=RANDOM_SEED)\n",
    "\n",
    "params = {'C': np.linspace(0, 100, 5),\n",
    "         'max_iter': np.linspace(start=1,stop=1000,num=10, dtype=int)}\n",
    "\n",
    "model_best = GridSearchCV(lr_best, param_grid=params, verbose=1, cv=2)\n",
    "\n",
    "model_best.fit(X_train, Y_train)\n",
    "probs = model_best.predict_proba(X_test)\n",
    "y_pred = model_best.predict(X_test)\n",
    "probs = probs[:,1]\n",
    "\n",
    "fpr, tpr, threshold = roc_curve(Y_test, probs)\n",
    "roc_auc = roc_auc_score(Y_test, probs)\n",
    "\n",
    "fig, ax = plt.subplots(figsize=(10,5))\n",
    "plt.plot([0, 1], label='Baseline', linestyle='--')\n",
    "plt.plot(fpr, tpr, label = 'Regression')\n",
    "ax.set_title('Logistic Regression ROC AUC = %0.5f'%roc_auc)\n",
    "plt.ylabel('True Positive Rate')\n",
    "plt.xlabel('False Positive Rate')\n",
    "plt.legend(loc='lower right')"
   ]
  },
  {
   "cell_type": "code",
   "execution_count": 36,
   "id": "short-category",
   "metadata": {
    "execution": {
     "iopub.execute_input": "2021-08-10T13:12:24.800259Z",
     "iopub.status.busy": "2021-08-10T13:12:24.799492Z",
     "iopub.status.idle": "2021-08-10T13:12:24.822297Z",
     "shell.execute_reply": "2021-08-10T13:12:24.823114Z"
    },
    "papermill": {
     "duration": 0.103541,
     "end_time": "2021-08-10T13:12:24.823360",
     "exception": false,
     "start_time": "2021-08-10T13:12:24.719819",
     "status": "completed"
    },
    "tags": []
   },
   "outputs": [
    {
     "name": "stdout",
     "output_type": "stream",
     "text": [
      "accuracy_score: 0.6726\n",
      "f1_score: 0.3363\n",
      "recall_score: 0.6577\n",
      "MSE: 0.3274\n"
     ]
    }
   ],
   "source": [
    "print('accuracy_score: {}'.format(np.round(accuracy_score(Y_test, y_pred), 4)))\n",
    "print('f1_score: {}'.format(np.round(f1_score(Y_test, y_pred), 4)))\n",
    "print('recall_score: {}'.format(np.round(recall_score(Y_test, y_pred), 4)))\n",
    "print('MSE: {}'.format(np.round(mean_squared_error(Y_test, y_pred), 4)))"
   ]
  },
  {
   "cell_type": "code",
   "execution_count": 37,
   "id": "lasting-vermont",
   "metadata": {
    "execution": {
     "iopub.execute_input": "2021-08-10T13:12:24.982184Z",
     "iopub.status.busy": "2021-08-10T13:12:24.981107Z",
     "iopub.status.idle": "2021-08-10T13:12:25.294044Z",
     "shell.execute_reply": "2021-08-10T13:12:25.294586Z"
    },
    "papermill": {
     "duration": 0.396463,
     "end_time": "2021-08-10T13:12:25.294806",
     "exception": false,
     "start_time": "2021-08-10T13:12:24.898343",
     "status": "completed"
    },
    "tags": []
   },
   "outputs": [
    {
     "data": {
      "image/png": "[encoded data removed]",
      "text/plain": [
       "<Figure size 432x288 with 2 Axes>"
      ]
     },
     "metadata": {},
     "output_type": "display_data"
    }
   ],
   "source": [
    "# Визуализация confusion matrix:\n",
    "sns.set_context(context='paper', font_scale=2, rc=None)\n",
    "group_names = ['True Pos', 'False Pos', 'False Neg', 'True Neg']\n",
    "group_counts = ['{0:0.0f}'.format(value) for value in\n",
    "                confusion_matrix(Y_test, y_pred).flatten()]\n",
    "labels = [f'{v1}\\n{v2}' for v1, v2 in\n",
    "          zip(group_names, group_counts)]\n",
    "labels = np.asarray(labels).reshape(2, 2)\n",
    "ax = sns.heatmap(confusion_matrix(Y_test, y_pred), annot=labels, fmt='', cmap='Greens')\n",
    "ax.set(xlabel='predicted', ylabel='real',title = 'Confusion matrix')\n",
    "plt.show()"
   ]
  },
  {
   "cell_type": "markdown",
   "id": "soviet-performer",
   "metadata": {
    "papermill": {
     "duration": 0.076876,
     "end_time": "2021-08-10T13:12:25.448747",
     "exception": false,
     "start_time": "2021-08-10T13:12:25.371871",
     "status": "completed"
    },
    "tags": []
   },
   "source": [
    "Как мы видим по confusion matrix наша модель достаточно много раз ошибается и не выдает кредит клиентам, которые его выплатят (точность сильно понизилась относительно model), что ведет к уменьшению доходов банка. Оданако теперь модель не выдает кредит всем в подряд..."
   ]
  },
  {
   "cell_type": "markdown",
   "id": "static-better",
   "metadata": {
    "papermill": {
     "duration": 0.07557,
     "end_time": "2021-08-10T13:12:25.602916",
     "exception": false,
     "start_time": "2021-08-10T13:12:25.527346",
     "status": "completed"
    },
    "tags": []
   },
   "source": [
    "#### 9.1.2 Логистическая регрессия (undersampling)\n",
    "\n",
    "Так как в исходном датасете данные несбалансированные (один класс превосходит другой в 7 раз на train'е) можно попробовать выполнить undersampling, то есть случайным образом уменьшить преобладающий класс в 7 раз"
   ]
  },
  {
   "cell_type": "code",
   "execution_count": 38,
   "id": "olympic-deadline",
   "metadata": {
    "execution": {
     "iopub.execute_input": "2021-08-10T13:12:25.763464Z",
     "iopub.status.busy": "2021-08-10T13:12:25.762691Z",
     "iopub.status.idle": "2021-08-10T13:12:25.904370Z",
     "shell.execute_reply": "2021-08-10T13:12:25.903595Z"
    },
    "papermill": {
     "duration": 0.224547,
     "end_time": "2021-08-10T13:12:25.904528",
     "exception": false,
     "start_time": "2021-08-10T13:12:25.679981",
     "status": "completed"
    },
    "tags": []
   },
   "outputs": [
    {
     "data": {
      "image/png": "[encoded data removed]",
      "text/plain": [
       "<Figure size 432x288 with 1 Axes>"
      ]
     },
     "metadata": {},
     "output_type": "display_data"
    },
    {
     "name": "stdout",
     "output_type": "stream",
     "text": [
      "Класс 0 преобладает над классом 1 в 6.9 раз\n"
     ]
    }
   ],
   "source": [
    "plt.pie(x=train['default'].value_counts(),\n",
    "       labels=list(train['default'].value_counts().index),\n",
    "       autopct='%6.1f%%',\n",
    "       explode=[0, 0.2],\n",
    "       shadow=True,\n",
    "       textprops={'fontsize': 15})\n",
    "plt.title('default')\n",
    "plt.show()\n",
    "\n",
    "print('Класс 0 преобладает над классом 1 в {} раз'.format(\n",
    "    round(train['default'].value_counts()[0]/train['default'].value_counts()[1],1)))"
   ]
  },
  {
   "cell_type": "code",
   "execution_count": 39,
   "id": "imposed-butler",
   "metadata": {
    "execution": {
     "iopub.execute_input": "2021-08-10T13:12:26.068378Z",
     "iopub.status.busy": "2021-08-10T13:12:26.067069Z",
     "iopub.status.idle": "2021-08-10T13:12:26.104255Z",
     "shell.execute_reply": "2021-08-10T13:12:26.103671Z"
    },
    "papermill": {
     "duration": 0.121898,
     "end_time": "2021-08-10T13:12:26.104413",
     "exception": false,
     "start_time": "2021-08-10T13:12:25.982515",
     "status": "completed"
    },
    "tags": []
   },
   "outputs": [],
   "source": [
    "# Выберем случайным образом из train['default']==0 такое количество строк, которое\n",
    "# равнялось бы train['default']==1, и затем объединим с train['default']==1.\n",
    "under_train = pd.concat([train[train['default']==0].sample(\n",
    "    len(train[train['default']==1]), random_state=RANDOM_SEED), train[train['default']==1]])\n",
    "\n",
    "X = under_train.drop(columns = ['default', 'client_id'])\n",
    "Y = under_train['default']\n",
    "\n",
    "X_train, X_test, Y_train, Y_test = train_test_split(X, Y, random_state = RANDOM_SEED,\n",
    "                                                    test_size=0.2)"
   ]
  },
  {
   "cell_type": "code",
   "execution_count": 40,
   "id": "afraid-arabic",
   "metadata": {
    "execution": {
     "iopub.execute_input": "2021-08-10T13:12:26.272319Z",
     "iopub.status.busy": "2021-08-10T13:12:26.271170Z",
     "iopub.status.idle": "2021-08-10T13:12:38.005055Z",
     "shell.execute_reply": "2021-08-10T13:12:38.005596Z"
    },
    "papermill": {
     "duration": 11.822238,
     "end_time": "2021-08-10T13:12:38.005778",
     "exception": false,
     "start_time": "2021-08-10T13:12:26.183540",
     "status": "completed"
    },
    "tags": []
   },
   "outputs": [
    {
     "name": "stdout",
     "output_type": "stream",
     "text": [
      "Fitting 2 folds for each of 50 candidates, totalling 100 fits\n",
      "Лучшие параметры модели:  {'C': 25.0, 'max_iter': 56}\n"
     ]
    },
    {
     "data": {
      "image/png": "[encoded data removed]",
      "text/plain": [
       "<Figure size 720x360 with 1 Axes>"
      ]
     },
     "metadata": {},
     "output_type": "display_data"
    }
   ],
   "source": [
    "# Попробуем поменять class_weight и с помощью GridSearchCV найти оптимальные параметры\n",
    "lr_best = LogisticRegression(class_weight='balanced',\n",
    "                            random_state=RANDOM_SEED)\n",
    "\n",
    "params = {'C': np.linspace(0, 100, 5),\n",
    "         'max_iter': np.linspace(start=1,stop=500,num=10, dtype=int)}\n",
    "\n",
    "model_best = GridSearchCV(lr_best, param_grid=params, verbose=1, cv=2)\n",
    "\n",
    "model_best.fit(X_train, Y_train)\n",
    "probs = model_best.predict_proba(X_test)\n",
    "y_pred = model_best.predict(X_test)\n",
    "probs = probs[:,1]\n",
    "\n",
    "fpr, tpr, threshold = roc_curve(Y_test, probs)\n",
    "roc_auc = roc_auc_score(Y_test, probs)\n",
    "\n",
    "fig, ax = plt.subplots(figsize=(10,5))\n",
    "plt.plot([0, 1], label='Baseline', linestyle='--')\n",
    "plt.plot(fpr, tpr, label = 'Regression')\n",
    "ax.set_title('Logistic Regression ROC AUC = %0.5f'%roc_auc)\n",
    "plt.ylabel('True Positive Rate')\n",
    "plt.xlabel('False Positive Rate')\n",
    "plt.legend(loc='lower right')\n",
    "\n",
    "print(\"Лучшие параметры модели: \", model_best.best_params_)"
   ]
  },
  {
   "cell_type": "code",
   "execution_count": 41,
   "id": "stuffed-rabbit",
   "metadata": {
    "execution": {
     "iopub.execute_input": "2021-08-10T13:12:38.175723Z",
     "iopub.status.busy": "2021-08-10T13:12:38.174567Z",
     "iopub.status.idle": "2021-08-10T13:12:38.188616Z",
     "shell.execute_reply": "2021-08-10T13:12:38.188026Z"
    },
    "papermill": {
     "duration": 0.103089,
     "end_time": "2021-08-10T13:12:38.188766",
     "exception": false,
     "start_time": "2021-08-10T13:12:38.085677",
     "status": "completed"
    },
    "tags": []
   },
   "outputs": [
    {
     "name": "stdout",
     "output_type": "stream",
     "text": [
      "accuracy_score: 0.674\n",
      "f1_score: 0.6809\n",
      "recall_score: 0.6788\n",
      "MSE: 0.326\n"
     ]
    }
   ],
   "source": [
    "print('accuracy_score: {}'.format(np.round(accuracy_score(Y_test, y_pred), 4)))\n",
    "print('f1_score: {}'.format(np.round(f1_score(Y_test, y_pred), 4)))\n",
    "print('recall_score: {}'.format(np.round(recall_score(Y_test, y_pred), 4)))\n",
    "print('MSE: {}'.format(np.round(mean_squared_error(Y_test, y_pred), 4)))"
   ]
  },
  {
   "cell_type": "code",
   "execution_count": 42,
   "id": "offensive-discretion",
   "metadata": {
    "execution": {
     "iopub.execute_input": "2021-08-10T13:12:38.352869Z",
     "iopub.status.busy": "2021-08-10T13:12:38.352099Z",
     "iopub.status.idle": "2021-08-10T13:12:38.624531Z",
     "shell.execute_reply": "2021-08-10T13:12:38.623945Z"
    },
    "papermill": {
     "duration": 0.356082,
     "end_time": "2021-08-10T13:12:38.624676",
     "exception": false,
     "start_time": "2021-08-10T13:12:38.268594",
     "status": "completed"
    },
    "tags": []
   },
   "outputs": [
    {
     "data": {
      "image/png": "[encoded data removed]",
      "text/plain": [
       "<Figure size 432x288 with 2 Axes>"
      ]
     },
     "metadata": {},
     "output_type": "display_data"
    }
   ],
   "source": [
    "# Визуализация confusion matrix:\n",
    "sns.set_context(context='paper', font_scale=2, rc=None)\n",
    "group_names = ['True Pos', 'False Pos', 'False Neg', 'True Neg']\n",
    "group_counts = ['{0:0.0f}'.format(value) for value in\n",
    "                confusion_matrix(Y_test, y_pred).flatten()]\n",
    "labels = [f'{v1}\\n{v2}' for v1, v2 in\n",
    "          zip(group_names, group_counts)]\n",
    "labels = np.asarray(labels).reshape(2, 2)\n",
    "ax = sns.heatmap(confusion_matrix(Y_test, y_pred), annot=labels, fmt='', cmap='Greens')\n",
    "ax.set(xlabel='predicted', ylabel='real',title = 'Confusion matrix')\n",
    "plt.show()"
   ]
  },
  {
   "cell_type": "markdown",
   "id": "trying-holmes",
   "metadata": {
    "papermill": {
     "duration": 0.081521,
     "end_time": "2021-08-10T13:12:38.788723",
     "exception": false,
     "start_time": "2021-08-10T13:12:38.707202",
     "status": "completed"
    },
    "tags": []
   },
   "source": [
    "После проведения undersampling'а модель явно лучше стала предсказывать класс TrueNegative. В целом неплохо, но стоит попробовать более сложную модель..."
   ]
  },
  {
   "cell_type": "markdown",
   "id": "entertaining-supplier",
   "metadata": {
    "papermill": {
     "duration": 0.092234,
     "end_time": "2021-08-10T13:12:38.963695",
     "exception": false,
     "start_time": "2021-08-10T13:12:38.871461",
     "status": "completed"
    },
    "tags": []
   },
   "source": [
    "#### 9.2 CatBoost"
   ]
  },
  {
   "cell_type": "code",
   "execution_count": 43,
   "id": "korean-sender",
   "metadata": {
    "execution": {
     "iopub.execute_input": "2021-08-10T13:12:39.158899Z",
     "iopub.status.busy": "2021-08-10T13:12:39.152229Z",
     "iopub.status.idle": "2021-08-10T13:12:43.679180Z",
     "shell.execute_reply": "2021-08-10T13:12:43.678505Z"
    },
    "papermill": {
     "duration": 4.627655,
     "end_time": "2021-08-10T13:12:43.679322",
     "exception": false,
     "start_time": "2021-08-10T13:12:39.051667",
     "status": "completed"
    },
    "tags": []
   },
   "outputs": [
    {
     "data": {
      "text/plain": [
       "<matplotlib.legend.Legend at 0x7f9542be4150>"
      ]
     },
     "execution_count": 43,
     "metadata": {},
     "output_type": "execute_result"
    },
    {
     "data": {
      "image/png": "[encoded data removed]",
      "text/plain": [
       "<Figure size 720x360 with 1 Axes>"
      ]
     },
     "metadata": {},
     "output_type": "display_data"
    }
   ],
   "source": [
    "cat = CatBoostClassifier(n_estimators=1000,\n",
    "                         depth=2,\n",
    "                         logging_level='Silent')\n",
    "\n",
    "cat.fit(X_train, Y_train)\n",
    "probs = cat.predict_proba(X_test)\n",
    "y_pred = cat.predict(X_test)\n",
    "probs = probs[:,1]\n",
    "\n",
    "fpr, tpr, threshold = roc_curve(Y_test, probs)\n",
    "roc_auc = roc_auc_score(Y_test, probs)\n",
    "\n",
    "fig, ax = plt.subplots(figsize=(10,5))\n",
    "plt.plot([0, 1], label='Baseline', linestyle='--')\n",
    "plt.plot(fpr, tpr, label = 'Regression')\n",
    "ax.set_title('Logistic Regression ROC AUC = %0.5f'%roc_auc)\n",
    "plt.ylabel('True Positive Rate')\n",
    "plt.xlabel('False Positive Rate')\n",
    "plt.legend(loc='lower right')"
   ]
  },
  {
   "cell_type": "code",
   "execution_count": 44,
   "id": "scenic-hurricane",
   "metadata": {
    "execution": {
     "iopub.execute_input": "2021-08-10T13:12:43.857644Z",
     "iopub.status.busy": "2021-08-10T13:12:43.856385Z",
     "iopub.status.idle": "2021-08-10T13:12:43.871276Z",
     "shell.execute_reply": "2021-08-10T13:12:43.870648Z"
    },
    "papermill": {
     "duration": 0.107672,
     "end_time": "2021-08-10T13:12:43.871432",
     "exception": false,
     "start_time": "2021-08-10T13:12:43.763760",
     "status": "completed"
    },
    "tags": []
   },
   "outputs": [
    {
     "name": "stdout",
     "output_type": "stream",
     "text": [
      "accuracy_score: 0.6823\n",
      "f1_score: 0.689\n",
      "recall_score: 0.6866\n",
      "MSE: 0.3177\n"
     ]
    }
   ],
   "source": [
    "print('accuracy_score: {}'.format(np.round(accuracy_score(Y_test, y_pred), 4)))\n",
    "print('f1_score: {}'.format(np.round(f1_score(Y_test, y_pred), 4)))\n",
    "print('recall_score: {}'.format(np.round(recall_score(Y_test, y_pred), 4)))\n",
    "print('MSE: {}'.format(np.round(mean_squared_error(Y_test, y_pred), 4)))"
   ]
  },
  {
   "cell_type": "code",
   "execution_count": 45,
   "id": "protective-richmond",
   "metadata": {
    "execution": {
     "iopub.execute_input": "2021-08-10T13:12:44.051838Z",
     "iopub.status.busy": "2021-08-10T13:12:44.051074Z",
     "iopub.status.idle": "2021-08-10T13:12:44.548000Z",
     "shell.execute_reply": "2021-08-10T13:12:44.547332Z"
    },
    "papermill": {
     "duration": 0.589734,
     "end_time": "2021-08-10T13:12:44.548174",
     "exception": false,
     "start_time": "2021-08-10T13:12:43.958440",
     "status": "completed"
    },
    "tags": []
   },
   "outputs": [
    {
     "data": {
      "image/png": "[encoded data removed]",
      "text/plain": [
       "<Figure size 432x288 with 2 Axes>"
      ]
     },
     "metadata": {},
     "output_type": "display_data"
    }
   ],
   "source": [
    "sns.set_context(context='paper', font_scale=2, rc=None)\n",
    "group_names = ['True Pos', 'False Pos', 'False Neg', 'True Neg']\n",
    "group_counts = ['{0:0.0f}'.format(value) for value in\n",
    "                confusion_matrix(Y_test, y_pred).flatten()]\n",
    "labels = [f'{v1}\\n{v2}' for v1, v2 in\n",
    "          zip(group_names, group_counts)]\n",
    "labels = np.asarray(labels).reshape(2, 2)\n",
    "ax = sns.heatmap(confusion_matrix(Y_test, y_pred), annot=labels, fmt='', cmap='Greens')\n",
    "ax.set(xlabel='predicted', ylabel='real',title = 'Confusion matrix')\n",
    "plt.show()"
   ]
  },
  {
   "cell_type": "markdown",
   "id": "optimum-iraqi",
   "metadata": {
    "papermill": {
     "duration": 0.089421,
     "end_time": "2021-08-10T13:12:44.727109",
     "exception": false,
     "start_time": "2021-08-10T13:12:44.637688",
     "status": "completed"
    },
    "tags": []
   },
   "source": [
    "Результаты стали лучше, чем были в модели логистической регресии с гиперпараметрами и выполненым undersampling'ом, поэтому для сабмишена будет использовать модель CatBoostingClassifier"
   ]
  },
  {
   "cell_type": "code",
   "execution_count": 46,
   "id": "hybrid-great",
   "metadata": {
    "execution": {
     "iopub.execute_input": "2021-08-10T13:12:44.909984Z",
     "iopub.status.busy": "2021-08-10T13:12:44.909152Z",
     "iopub.status.idle": "2021-08-10T13:12:44.943408Z",
     "shell.execute_reply": "2021-08-10T13:12:44.942570Z"
    },
    "papermill": {
     "duration": 0.129102,
     "end_time": "2021-08-10T13:12:44.943578",
     "exception": false,
     "start_time": "2021-08-10T13:12:44.814476",
     "status": "completed"
    },
    "tags": []
   },
   "outputs": [],
   "source": [
    "X_test2 = test.drop(columns = ['default', 'client_id'])\n",
    "y_probs = cat.predict_proba(X_test2)[:,1]"
   ]
  },
  {
   "cell_type": "code",
   "execution_count": 47,
   "id": "excess-florist",
   "metadata": {
    "execution": {
     "iopub.execute_input": "2021-08-10T13:12:45.126850Z",
     "iopub.status.busy": "2021-08-10T13:12:45.125984Z",
     "iopub.status.idle": "2021-08-10T13:12:45.130692Z",
     "shell.execute_reply": "2021-08-10T13:12:45.130126Z"
    },
    "papermill": {
     "duration": 0.098982,
     "end_time": "2021-08-10T13:12:45.130857",
     "exception": false,
     "start_time": "2021-08-10T13:12:45.031875",
     "status": "completed"
    },
    "tags": []
   },
   "outputs": [],
   "source": [
    "test['default'] = y_probs"
   ]
  },
  {
   "cell_type": "code",
   "execution_count": 48,
   "id": "present-handy",
   "metadata": {
    "execution": {
     "iopub.execute_input": "2021-08-10T13:12:45.313759Z",
     "iopub.status.busy": "2021-08-10T13:12:45.312571Z",
     "iopub.status.idle": "2021-08-10T13:12:45.329829Z",
     "shell.execute_reply": "2021-08-10T13:12:45.329091Z"
    },
    "papermill": {
     "duration": 0.110775,
     "end_time": "2021-08-10T13:12:45.330033",
     "exception": false,
     "start_time": "2021-08-10T13:12:45.219258",
     "status": "completed"
    },
    "tags": []
   },
   "outputs": [
    {
     "data": {
      "text/html": [
       "<div>\n",
       "<style scoped>\n",
       "    .dataframe tbody tr th:only-of-type {\n",
       "        vertical-align: middle;\n",
       "    }\n",
       "\n",
       "    .dataframe tbody tr th {\n",
       "        vertical-align: top;\n",
       "    }\n",
       "\n",
       "    .dataframe thead th {\n",
       "        text-align: right;\n",
       "    }\n",
       "</style>\n",
       "<table border=\"1\" class=\"dataframe\">\n",
       "  <thead>\n",
       "    <tr style=\"text-align: right;\">\n",
       "      <th></th>\n",
       "      <th>client_id</th>\n",
       "      <th>default</th>\n",
       "    </tr>\n",
       "  </thead>\n",
       "  <tbody>\n",
       "    <tr>\n",
       "      <th>26300</th>\n",
       "      <td>80247</td>\n",
       "      <td>0.306565</td>\n",
       "    </tr>\n",
       "    <tr>\n",
       "      <th>18457</th>\n",
       "      <td>20916</td>\n",
       "      <td>0.669262</td>\n",
       "    </tr>\n",
       "    <tr>\n",
       "      <th>32082</th>\n",
       "      <td>92689</td>\n",
       "      <td>0.477876</td>\n",
       "    </tr>\n",
       "    <tr>\n",
       "      <th>30153</th>\n",
       "      <td>90765</td>\n",
       "      <td>0.562907</td>\n",
       "    </tr>\n",
       "    <tr>\n",
       "      <th>6286</th>\n",
       "      <td>8951</td>\n",
       "      <td>0.561126</td>\n",
       "    </tr>\n",
       "    <tr>\n",
       "      <th>14211</th>\n",
       "      <td>107391</td>\n",
       "      <td>0.361846</td>\n",
       "    </tr>\n",
       "    <tr>\n",
       "      <th>27471</th>\n",
       "      <td>11419</td>\n",
       "      <td>0.661408</td>\n",
       "    </tr>\n",
       "    <tr>\n",
       "      <th>20137</th>\n",
       "      <td>18752</td>\n",
       "      <td>0.708506</td>\n",
       "    </tr>\n",
       "    <tr>\n",
       "      <th>35248</th>\n",
       "      <td>23340</td>\n",
       "      <td>0.682799</td>\n",
       "    </tr>\n",
       "    <tr>\n",
       "      <th>1746</th>\n",
       "      <td>12978</td>\n",
       "      <td>0.881683</td>\n",
       "    </tr>\n",
       "  </tbody>\n",
       "</table>\n",
       "</div>"
      ],
      "text/plain": [
       "       client_id   default\n",
       "26300      80247  0.306565\n",
       "18457      20916  0.669262\n",
       "32082      92689  0.477876\n",
       "30153      90765  0.562907\n",
       "6286        8951  0.561126\n",
       "14211     107391  0.361846\n",
       "27471      11419  0.661408\n",
       "20137      18752  0.708506\n",
       "35248      23340  0.682799\n",
       "1746       12978  0.881683"
      ]
     },
     "metadata": {},
     "output_type": "display_data"
    },
    {
     "data": {
      "text/plain": [
       "(36349, 2)"
      ]
     },
     "metadata": {},
     "output_type": "display_data"
    }
   ],
   "source": [
    "submission = test[['client_id','default']]\n",
    "display(submission.sample(10))\n",
    "display(submission.shape)"
   ]
  },
  {
   "cell_type": "code",
   "execution_count": 49,
   "id": "revolutionary-trick",
   "metadata": {
    "execution": {
     "iopub.execute_input": "2021-08-10T13:12:45.520424Z",
     "iopub.status.busy": "2021-08-10T13:12:45.519658Z",
     "iopub.status.idle": "2021-08-10T13:12:45.670809Z",
     "shell.execute_reply": "2021-08-10T13:12:45.669721Z"
    },
    "papermill": {
     "duration": 0.248258,
     "end_time": "2021-08-10T13:12:45.671011",
     "exception": false,
     "start_time": "2021-08-10T13:12:45.422753",
     "status": "completed"
    },
    "tags": []
   },
   "outputs": [],
   "source": [
    "submission.to_csv('submission.csv', index=False)"
   ]
  }
 ],
 "metadata": {
  "kernelspec": {
   "display_name": "Python 3",
   "language": "python",
   "name": "python3"
  },
  "language_info": {
   "codemirror_mode": {
    "name": "ipython",
    "version": 3
   },
   "file_extension": ".py",
   "mimetype": "text/x-python",
   "name": "python",
   "nbconvert_exporter": "python",
   "pygments_lexer": "ipython3",
   "version": "3.7.10"
  },
  "papermill": {
   "default_parameters": {},
   "duration": 88.08644,
   "end_time": "2021-08-10T13:12:47.147113",
   "environment_variables": {},
   "exception": null,
   "input_path": "__notebook__.ipynb",
   "output_path": "__notebook__.ipynb",
   "parameters": {},
   "start_time": "2021-08-10T13:11:19.060673",
   "version": "2.3.3"
  }
 },
 "nbformat": 4,
 "nbformat_minor": 5
}
