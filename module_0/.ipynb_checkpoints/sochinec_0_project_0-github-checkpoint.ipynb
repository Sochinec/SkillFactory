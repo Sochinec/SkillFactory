{
 "cells": [
  {
   "cell_type": "markdown",
   "metadata": {},
   "source": [
    "## Итоговое задание.  Проект 0. GitHub. Самый быстрый старт \n",
    "\n",
    "В этом блокноте представлен улучшенный алгоритм поиска загаданного случайного числа."
   ]
  },
  {
   "cell_type": "code",
   "execution_count": 41,
   "metadata": {},
   "outputs": [
    {
     "name": "stdout",
     "output_type": "stream",
     "text": [
      "Загадано число 60 в диапазоне от 1 до 100\n",
      "Ваш алгоритм угадывает число в среднем за 5 попыток\n"
     ]
    },
    {
     "data": {
      "text/plain": [
       "5"
      ]
     },
     "execution_count": 41,
     "metadata": {},
     "output_type": "execute_result"
    }
   ],
   "source": [
    "import numpy as np\n",
    "\n",
    "def game_core(number):\n",
    "    '''Эта функция выполняет поиск загаданного случайного числа в диапазоне от 1 до 100'''\n",
    "    count = 1 # число попыток \n",
    "    low = 1 # стартовое значение нижней границы диапазона чисел для поиска \n",
    "    high = 100 # стартовое значение верхней границы диапазона чисел для поиска \n",
    "    while number != (high + low) // 2:\n",
    "        avg = (high + low) // 2 # среднее значение диапазона чисел для поиска\n",
    "        count+=1\n",
    "        if number > avg: \n",
    "            low = avg + 1\n",
    "        elif number < avg: \n",
    "            high = avg - 1\n",
    "    return(count) # возврат числа попыток\n",
    "        \n",
    "        \n",
    "def score_game(game_core):\n",
    "    '''Запускаем игру 1000 раз, чтобы узнать, как быстро игра угадывает число'''\n",
    "    count_ls = []\n",
    "    np.random.seed(1)  # фиксируем RANDOM SEED, чтобы ваш эксперимент был воспроизводим!\n",
    "    random_array = np.random.randint(1,101, size=(1000))\n",
    "    for number in random_array:\n",
    "        count_ls.append(game_core(number))\n",
    "    score = int(np.mean(count_ls))\n",
    "    print(f\"Ваш алгоритм угадывает число в среднем за {score} попыток\")\n",
    "    return(score)\n",
    "\n",
    "\n",
    "number = np.random.randint(1,101)      # загаданное число в диапазоне от 1 до 100\n",
    "print (f\"Загадано число {number} в диапазоне от 1 до 100\")\n",
    "score_game(game_core)"
   ]
  },
  {
   "cell_type": "code",
   "execution_count": null,
   "metadata": {},
   "outputs": [],
   "source": []
  }
 ],
 "metadata": {
  "kernelspec": {
   "display_name": "Python 3",
   "language": "python",
   "name": "python3"
  },
  "language_info": {
   "codemirror_mode": {
    "name": "ipython",
    "version": 3
   },
   "file_extension": ".py",
   "mimetype": "text/x-python",
   "name": "python",
   "nbconvert_exporter": "python",
   "pygments_lexer": "ipython3",
   "version": "3.7.6"
  }
 },
 "nbformat": 4,
 "nbformat_minor": 4
}
